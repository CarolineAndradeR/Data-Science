{
  "nbformat": 4,
  "nbformat_minor": 0,
  "metadata": {
    "colab": {
      "provenance": [],
      "authorship_tag": "ABX9TyMIaCc+p9XUVPeOBe8HxJs7",
      "include_colab_link": true
    },
    "kernelspec": {
      "name": "python3",
      "display_name": "Python 3"
    },
    "language_info": {
      "name": "python"
    }
  },
  "cells": [
    {
      "cell_type": "markdown",
      "metadata": {
        "id": "view-in-github",
        "colab_type": "text"
      },
      "source": [
        "<a href=\"https://colab.research.google.com/github/CarolineAndradeR/Data-Science/blob/main/Medidas_e_m%C3%A9tricas_de_avalia%C3%A7%C3%A3o_e_aplica%C3%A7%C3%A3o_de_ML.ipynb\" target=\"_parent\"><img src=\"https://colab.research.google.com/assets/colab-badge.svg\" alt=\"Open In Colab\"/></a>"
      ]
    },
    {
      "cell_type": "code",
      "execution_count": null,
      "metadata": {
        "id": "rrexK_JV8yum"
      },
      "outputs": [],
      "source": []
    },
    {
      "cell_type": "markdown",
      "source": [
        "Um modelo de machine learning passa por algumas etapas,independente da metodologia que está sendo aplicada no projeto:\n",
        "1. Pré-processamento - em que os dados brutos são tratados.\n",
        "2. Treinamento - em que diversos algoritmos de ML são treinados com base nos dados.\n",
        "3. Avaliação - em que os resultados obtidos dos modelos treinados são comparados entre si e o melhor é escolhido como modelo de i ML para ser curado em produção.\n",
        "\n",
        "Em ML os problemas de classificação estão relacionados à aprendizagem supervisionada. Nesse tipo de problema, o objetivo é indentificar dentro das classes disponíveis, a qual categoria a amostra pertence.\n",
        "EX:\n",
        "O e-mail é um spam ou não ? - classificação binária, com duas categorias ( sim / não)\n",
        "Esse filme é um drama, uma comédia, um documentário ou um suspense ? - classificação multiclasse, com mais de duas categorias.\n",
        "\n",
        "**ACURÁCIA**\n",
        "Acurácia, ou taxa de acerto,é a métrica mais utilizada em problemas de classificação, pois mede o número de acertos do modelo dividido pelo nunúmero total testado (Ex: se o modelo possui uma acurácia de 0,95, o modelo acerta 95 de 100 previsões."
      ],
      "metadata": {
        "id": "sJLgc3AK9tX7"
      }
    }
  ]
}