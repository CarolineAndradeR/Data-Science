{
  "nbformat": 4,
  "nbformat_minor": 0,
  "metadata": {
    "colab": {
      "provenance": [],
      "authorship_tag": "ABX9TyPBr77kRRy7eOTsGCdEmQhF",
      "include_colab_link": true
    },
    "kernelspec": {
      "name": "python3",
      "display_name": "Python 3"
    },
    "language_info": {
      "name": "python"
    }
  },
  "cells": [
    {
      "cell_type": "markdown",
      "metadata": {
        "id": "view-in-github",
        "colab_type": "text"
      },
      "source": [
        "<a href=\"https://colab.research.google.com/github/CarolineAndradeR/Data-Science/blob/main/Medidas_e_m%C3%A9tricas_de_avalia%C3%A7%C3%A3o_e_aplica%C3%A7%C3%A3o_de_ML.ipynb\" target=\"_parent\"><img src=\"https://colab.research.google.com/assets/colab-badge.svg\" alt=\"Open In Colab\"/></a>"
      ]
    },
    {
      "cell_type": "code",
      "execution_count": null,
      "metadata": {
        "id": "rrexK_JV8yum"
      },
      "outputs": [],
      "source": []
    },
    {
      "cell_type": "markdown",
      "source": [
        "Um modelo de machine learning passa por algumas etapas,independente da metodologia que está sendo aplicada no projeto:\n",
        "1. Pré-processamento - em que os dados brutos são tratados.\n",
        "2. Treinamento - em que diversos algoritmos de ML são treinados com base nos dados.\n",
        "3. Avaliação - em que os resultados obtidos dos modelos treinados são comparados entre si e o melhor é escolhido como modelo de i ML para ser curado em produção.\n",
        "\n",
        "Em ML os problemas de classificação estão relacionados à aprendizagem supervisionada. Nesse tipo de problema, o objetivo é indentificar dentro das classes disponíveis, a qual categoria a amostra pertence.\n",
        "EX:\n",
        "O e-mail é um spam ou não ? - classificação binária, com duas categorias ( sim / não)\n",
        "Esse filme é um drama, uma comédia, um documentário ou um suspense ? - classificação multiclasse, com mais de duas categorias.\n",
        "\n",
        "**ACURÁCIA**\n",
        "Acurácia, ou taxa de acerto,é a métrica mais utilizada em problemas de classificação, pois mede o número de acertos do modelo dividido pelo nunúmero total testado (Ex: se o modelo possui uma acurácia de 0,95, o modelo acerta 95 de 100 previsões."
      ],
      "metadata": {
        "id": "sJLgc3AK9tX7"
      }
    },
    {
      "cell_type": "code",
      "source": [
        "import numpy as np\n",
        "from sklearn.metrics import accuracy_score  # importa método da acurácia\n",
        "# cria dois array de teste\n",
        "y_pred = [0, 2, 1, 3]\n",
        "y_true = [0, 1, 2, 3]\n",
        "# Calcula acurácia\n",
        "accuracy_score(y_true, y_pred)"
      ],
      "metadata": {
        "id": "baWchO1yh5MI",
        "outputId": "53ae529e-6d3d-4f8e-abff-be684a209f8c",
        "colab": {
          "base_uri": "https://localhost:8080/"
        }
      },
      "execution_count": 1,
      "outputs": [
        {
          "output_type": "execute_result",
          "data": {
            "text/plain": [
              "0.5"
            ]
          },
          "metadata": {},
          "execution_count": 1
        }
      ]
    },
    {
      "cell_type": "markdown",
      "source": [
        "**MATRIZ DE CONFUSÃO**\n",
        "\n",
        "A matriz de confusão exibe de forma simples os resultados de classificação em que as linhas representam os valores mais,e as colunas, os valores preditos,a diagonal principal é composta pelos acertos do modelo e os demais são os erros cometidos. A partir da matriz de confusão, extraímos diversas medidas de performace como: F1-Score,Recall,Precision e Especificidade.\n",
        "\n",
        "Verdadeiro Positivo (VP) - prediz que é positivo e realmente é positivo.\n",
        "\n",
        "Verdadeiro Negativo (VN) - prediz que é negativo e realmente é negativo.\n",
        "\n",
        "Falso Positivo (FP) - prediz que é positivo, mas na verdade é negativo.\n",
        "\n",
        "Falso Negativo (FN) - prediz que é negativo, mas na verdade é positivo.\n"
      ],
      "metadata": {
        "id": "2M6-AOv5iskF"
      }
    },
    {
      "cell_type": "code",
      "source": [
        "from sklearn.metrics import confusion_matrix\n",
        "import pandas as pd\n",
        "y_true = [0, 1, 1, 0, 1, 0,1,1,1]\n",
        "y_pred = [0, 1, 1, 0, 0, 1,0,0,0]\n",
        "# print da matriz de confusão\n",
        "print(confusion_matrix(y_true, y_pred))\n",
        "print(\"\n",
        "----\n",
        "\")\n",
        "# Exibe em tabela\n",
        "print (pd.crosstab(y_true,y_pred, rownames=['Real'], colnames=['Predito'], margins=True))\n",
        "print(\"\n",
        "----\n",
        "\")\n",
        "# Separa os valores em variaveis\n",
        "vn, fp, fn, vp = confusion_matrix(y_true,y_pred).ravel()\n",
        "print(\"VN:\",vn,\"\n",
        "FP:\", fp,\"\n",
        "FN:\", fn,\"\n",
        "VP:\", vp)"
      ],
      "metadata": {
        "id": "g7-nmcyUmkLv",
        "outputId": "bda75ec8-d676-4620-bf0e-e550ff200243",
        "colab": {
          "base_uri": "https://localhost:8080/",
          "height": 141
        }
      },
      "execution_count": 2,
      "outputs": [
        {
          "output_type": "error",
          "ename": "SyntaxError",
          "evalue": "ignored",
          "traceback": [
            "\u001b[0;36m  File \u001b[0;32m\"<ipython-input-2-e0e46704a011>\"\u001b[0;36m, line \u001b[0;32m7\u001b[0m\n\u001b[0;31m    print(\"\u001b[0m\n\u001b[0m          ^\u001b[0m\n\u001b[0;31mSyntaxError\u001b[0m\u001b[0;31m:\u001b[0m unterminated string literal (detected at line 7)\n"
          ]
        }
      ]
    }
  ]
}