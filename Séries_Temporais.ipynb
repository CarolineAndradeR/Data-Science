{
  "nbformat": 4,
  "nbformat_minor": 0,
  "metadata": {
    "colab": {
      "provenance": [],
      "mount_file_id": "https://github.com/CarolineAndradeR/Data-Science/blob/main/S%C3%A9ries_Temporais.ipynb",
      "authorship_tag": "ABX9TyOhFgrLyCajNrfb9boxHL6F",
      "include_colab_link": true
    },
    "kernelspec": {
      "name": "python3",
      "display_name": "Python 3"
    },
    "language_info": {
      "name": "python"
    }
  },
  "cells": [
    {
      "cell_type": "markdown",
      "metadata": {
        "id": "view-in-github",
        "colab_type": "text"
      },
      "source": [
        "<a href=\"https://colab.research.google.com/github/CarolineAndradeR/Data-Science/blob/main/S%C3%A9ries_Temporais.ipynb\" target=\"_parent\"><img src=\"https://colab.research.google.com/assets/colab-badge.svg\" alt=\"Open In Colab\"/></a>"
      ]
    },
    {
      "cell_type": "markdown",
      "source": [
        "# **Conceitos**"
      ],
      "metadata": {
        "id": "GReVsmYlS-nS"
      }
    },
    {
      "cell_type": "markdown",
      "source": [
        "Na área de estudos de séries temporais observar o passado é funamental para verificação de tendências e projeções de metas.\n",
        "\n",
        "Cinco aplicações para séries temporais:\n",
        "*   Projeção de valores futuros de uma série\n",
        "*   Definição da sequência de entradas e saídas de sistemas dinâmicos.\n",
        "*   Realizar análise de interveções, como políticas públicas ou política de preços.\n",
        "*   Verifiar a correlação dinâmica entre diversas variáveis no tempo.\n",
        "*   Analisar controles de sistemas e potencial de desvios.\n",
        "\n",
        "Uma série temporal é uma sequeência de observações ordenadas no tempo.\n",
        "\n",
        "Graficamente, uma série temporal é representada com o eixo x, o tempo e o eixo y, a medida observada. Considerabdo o contexto de modelo de regressão linear, bastaríamos ajustar uma reta em que a variável dependente seria a medida observada e a variável independente, o tempo.\n",
        "\n",
        "O modelo clássico de regressão é insuficiente para explicar toda a dinâmica existente em uma série temporal já que não captura estrutura relacionadas com o tempo. Uma dessas dinâmicas é o fenômeno da possível correlação existente entre os dias passado, possibilitando estimar um dos modelos mais conhecidos o ARIMA.\n",
        "\n",
        "**ARIMA**\n",
        "Se tornou bastante utilizado devido á sua simplicidade de estimação, a captura dessas três estruturas possibilta um melhor ajuste da série e, consequentemente, a capacidade de previsão.\n",
        "\n",
        "AR - Autoregressive\n",
        "I - Intefrated\n",
        "MA - Moving Average\n",
        "\n",
        "Para ajustar um modelo ARIMA são necessários seis passos:\n",
        "* Plotar os dados.\n",
        "* Verificar a necessidade de transforma os dados (verificar estacionariedade).\n",
        "* Identficar as ordens de dependência.\n",
        "* Estimar os parâmetros.\n",
        "* Diagnostcar a qualidade do modelo.\n",
        "\n",
        "**Conceito de Estacionalidade**\n",
        "\n",
        "Uma série temporal é considerada como um processo estocástico (é uma variável que se comporta, durante o tempo, de uma Maneira onde pelo menos parte e considerada randômica)\n",
        "\n",
        "A primeira restrição remetente ao termo \"estacionalidade\", se refere ao equilibrio estatístico, visto é, apesar de os valores da série variarem no tempo, as propraridades probalísticas não mudam no tempo.\n",
        "\n",
        "Séries estacionárias possuem media e variância constantes.\n",
        "\n",
        "\n",
        "Caso uma série temporal não seja estacionária, podemos realizar transformações para obter a estacionaridade,u,, assim possibilitar na estimação dos parametros e previsão das observações futuras.|\n",
        "\n",
        "Podemao definir no modelo ARIMA, nesse mitodo, a série ajustada para manter ou estacioraridade, conforme a ordem de integração, e cos parâmetros são ajustados de acordo com as ordens autorregressivas e as ordens de médias moveis.\n",
        "\n",
        "Também podemos dividir a amostra de análise para treino u teste.  A diferença para os casos é que a divisão é mediada por uma relata v de referência.\n",
        "\n",
        "Por exemplo,care tenhamos uma série de vendas no período entre 01/01/2000  e 0 1/01/2010, podemos definir uma data de referência como 01/01/2009. Dessa  forma, a amostra de treinamento poderá compreender  o período entre 01/01/2000 e 31/12/2008, e a amostra de teste, período entre 01/01/2009 e 01/01/2010.\n",
        "\n",
        "No caso de séries temporais, as métricas de avaliação na  amostra de testes são MAE (mean absolute error), MAPE ( mean absolute percentage erros )  e  RMSE ' root mean squared erros )."
      ],
      "metadata": {
        "id": "tCLUQcRlTY6h"
      }
    },
    {
      "cell_type": "markdown",
      "source": [
        "# **Prática**"
      ],
      "metadata": {
        "id": "TzxBhPKH_dZk"
      }
    },
    {
      "cell_type": "code",
      "execution_count": 2,
      "metadata": {
        "id": "NTa-RzTARtmX"
      },
      "outputs": [],
      "source": [
        "# gerais\n",
        "import numpy as np\n",
        "import pandas as pd\n",
        "import seaborn as sns\n",
        "import matplotlib.pyplot as plt\n",
        "\n",
        "# series temporais\n",
        "from statsmodels.tsa.stattools import adfuller\n",
        "from statsmodels.graphics.tsaplots import plot_acf, plot_pacf\n",
        "from statsmodels.tsa.arima.model import ARIMA\n",
        "from sklearn.metrics import mean_squared_error, mean_absolute_percentage_error, mean_absolute_error\n",
        "\n",
        "# carregar dados\n",
        "dados_eventos = pd.read_csv('/content/drive/MyDrive/Asset_FIAP/dados_vendas_evento.csv')"
      ]
    },
    {
      "cell_type": "code",
      "source": [
        "# dados gastos\n",
        "dados_eventos.head()"
      ],
      "metadata": {
        "id": "3pciDeKY6jcf",
        "outputId": "1d3caa97-6dfa-4682-a9eb-0875503485c6",
        "colab": {
          "base_uri": "https://localhost:8080/",
          "height": 206
        }
      },
      "execution_count": 3,
      "outputs": [
        {
          "output_type": "execute_result",
          "data": {
            "text/plain": [
              "   data_venda data_evento  qtd_inscricoes       ticket\n",
              "0  2017-02-10  2017-09-13               7  1960.357143\n",
              "1  2017-03-23  2017-09-13               4  1621.750000\n",
              "2  2017-03-27  2017-09-13              11  1533.583333\n",
              "3  2017-04-10  2017-09-13               6  2079.166667\n",
              "4  2017-04-11  2017-09-13               4  1871.250000"
            ],
            "text/html": [
              "\n",
              "\n",
              "  <div id=\"df-2494a163-a0ba-4e91-8f87-c35a2b83b8b8\">\n",
              "    <div class=\"colab-df-container\">\n",
              "      <div>\n",
              "<style scoped>\n",
              "    .dataframe tbody tr th:only-of-type {\n",
              "        vertical-align: middle;\n",
              "    }\n",
              "\n",
              "    .dataframe tbody tr th {\n",
              "        vertical-align: top;\n",
              "    }\n",
              "\n",
              "    .dataframe thead th {\n",
              "        text-align: right;\n",
              "    }\n",
              "</style>\n",
              "<table border=\"1\" class=\"dataframe\">\n",
              "  <thead>\n",
              "    <tr style=\"text-align: right;\">\n",
              "      <th></th>\n",
              "      <th>data_venda</th>\n",
              "      <th>data_evento</th>\n",
              "      <th>qtd_inscricoes</th>\n",
              "      <th>ticket</th>\n",
              "    </tr>\n",
              "  </thead>\n",
              "  <tbody>\n",
              "    <tr>\n",
              "      <th>0</th>\n",
              "      <td>2017-02-10</td>\n",
              "      <td>2017-09-13</td>\n",
              "      <td>7</td>\n",
              "      <td>1960.357143</td>\n",
              "    </tr>\n",
              "    <tr>\n",
              "      <th>1</th>\n",
              "      <td>2017-03-23</td>\n",
              "      <td>2017-09-13</td>\n",
              "      <td>4</td>\n",
              "      <td>1621.750000</td>\n",
              "    </tr>\n",
              "    <tr>\n",
              "      <th>2</th>\n",
              "      <td>2017-03-27</td>\n",
              "      <td>2017-09-13</td>\n",
              "      <td>11</td>\n",
              "      <td>1533.583333</td>\n",
              "    </tr>\n",
              "    <tr>\n",
              "      <th>3</th>\n",
              "      <td>2017-04-10</td>\n",
              "      <td>2017-09-13</td>\n",
              "      <td>6</td>\n",
              "      <td>2079.166667</td>\n",
              "    </tr>\n",
              "    <tr>\n",
              "      <th>4</th>\n",
              "      <td>2017-04-11</td>\n",
              "      <td>2017-09-13</td>\n",
              "      <td>4</td>\n",
              "      <td>1871.250000</td>\n",
              "    </tr>\n",
              "  </tbody>\n",
              "</table>\n",
              "</div>\n",
              "      <button class=\"colab-df-convert\" onclick=\"convertToInteractive('df-2494a163-a0ba-4e91-8f87-c35a2b83b8b8')\"\n",
              "              title=\"Convert this dataframe to an interactive table.\"\n",
              "              style=\"display:none;\">\n",
              "\n",
              "  <svg xmlns=\"http://www.w3.org/2000/svg\" height=\"24px\"viewBox=\"0 0 24 24\"\n",
              "       width=\"24px\">\n",
              "    <path d=\"M0 0h24v24H0V0z\" fill=\"none\"/>\n",
              "    <path d=\"M18.56 5.44l.94 2.06.94-2.06 2.06-.94-2.06-.94-.94-2.06-.94 2.06-2.06.94zm-11 1L8.5 8.5l.94-2.06 2.06-.94-2.06-.94L8.5 2.5l-.94 2.06-2.06.94zm10 10l.94 2.06.94-2.06 2.06-.94-2.06-.94-.94-2.06-.94 2.06-2.06.94z\"/><path d=\"M17.41 7.96l-1.37-1.37c-.4-.4-.92-.59-1.43-.59-.52 0-1.04.2-1.43.59L10.3 9.45l-7.72 7.72c-.78.78-.78 2.05 0 2.83L4 21.41c.39.39.9.59 1.41.59.51 0 1.02-.2 1.41-.59l7.78-7.78 2.81-2.81c.8-.78.8-2.07 0-2.86zM5.41 20L4 18.59l7.72-7.72 1.47 1.35L5.41 20z\"/>\n",
              "  </svg>\n",
              "      </button>\n",
              "\n",
              "\n",
              "\n",
              "    <div id=\"df-b9aa375f-a3be-48a2-9c62-81adb1d948ac\">\n",
              "      <button class=\"colab-df-quickchart\" onclick=\"quickchart('df-b9aa375f-a3be-48a2-9c62-81adb1d948ac')\"\n",
              "              title=\"Suggest charts.\"\n",
              "              style=\"display:none;\">\n",
              "\n",
              "<svg xmlns=\"http://www.w3.org/2000/svg\" height=\"24px\"viewBox=\"0 0 24 24\"\n",
              "     width=\"24px\">\n",
              "    <g>\n",
              "        <path d=\"M19 3H5c-1.1 0-2 .9-2 2v14c0 1.1.9 2 2 2h14c1.1 0 2-.9 2-2V5c0-1.1-.9-2-2-2zM9 17H7v-7h2v7zm4 0h-2V7h2v10zm4 0h-2v-4h2v4z\"/>\n",
              "    </g>\n",
              "</svg>\n",
              "      </button>\n",
              "    </div>\n",
              "\n",
              "<style>\n",
              "  .colab-df-quickchart {\n",
              "    background-color: #E8F0FE;\n",
              "    border: none;\n",
              "    border-radius: 50%;\n",
              "    cursor: pointer;\n",
              "    display: none;\n",
              "    fill: #1967D2;\n",
              "    height: 32px;\n",
              "    padding: 0 0 0 0;\n",
              "    width: 32px;\n",
              "  }\n",
              "\n",
              "  .colab-df-quickchart:hover {\n",
              "    background-color: #E2EBFA;\n",
              "    box-shadow: 0px 1px 2px rgba(60, 64, 67, 0.3), 0px 1px 3px 1px rgba(60, 64, 67, 0.15);\n",
              "    fill: #174EA6;\n",
              "  }\n",
              "\n",
              "  [theme=dark] .colab-df-quickchart {\n",
              "    background-color: #3B4455;\n",
              "    fill: #D2E3FC;\n",
              "  }\n",
              "\n",
              "  [theme=dark] .colab-df-quickchart:hover {\n",
              "    background-color: #434B5C;\n",
              "    box-shadow: 0px 1px 3px 1px rgba(0, 0, 0, 0.15);\n",
              "    filter: drop-shadow(0px 1px 2px rgba(0, 0, 0, 0.3));\n",
              "    fill: #FFFFFF;\n",
              "  }\n",
              "</style>\n",
              "\n",
              "    <script>\n",
              "      async function quickchart(key) {\n",
              "        const containerElement = document.querySelector('#' + key);\n",
              "        const charts = await google.colab.kernel.invokeFunction(\n",
              "            'suggestCharts', [key], {});\n",
              "      }\n",
              "    </script>\n",
              "\n",
              "      <script>\n",
              "\n",
              "function displayQuickchartButton(domScope) {\n",
              "  let quickchartButtonEl =\n",
              "    domScope.querySelector('#df-b9aa375f-a3be-48a2-9c62-81adb1d948ac button.colab-df-quickchart');\n",
              "  quickchartButtonEl.style.display =\n",
              "    google.colab.kernel.accessAllowed ? 'block' : 'none';\n",
              "}\n",
              "\n",
              "        displayQuickchartButton(document);\n",
              "      </script>\n",
              "      <style>\n",
              "    .colab-df-container {\n",
              "      display:flex;\n",
              "      flex-wrap:wrap;\n",
              "      gap: 12px;\n",
              "    }\n",
              "\n",
              "    .colab-df-convert {\n",
              "      background-color: #E8F0FE;\n",
              "      border: none;\n",
              "      border-radius: 50%;\n",
              "      cursor: pointer;\n",
              "      display: none;\n",
              "      fill: #1967D2;\n",
              "      height: 32px;\n",
              "      padding: 0 0 0 0;\n",
              "      width: 32px;\n",
              "    }\n",
              "\n",
              "    .colab-df-convert:hover {\n",
              "      background-color: #E2EBFA;\n",
              "      box-shadow: 0px 1px 2px rgba(60, 64, 67, 0.3), 0px 1px 3px 1px rgba(60, 64, 67, 0.15);\n",
              "      fill: #174EA6;\n",
              "    }\n",
              "\n",
              "    [theme=dark] .colab-df-convert {\n",
              "      background-color: #3B4455;\n",
              "      fill: #D2E3FC;\n",
              "    }\n",
              "\n",
              "    [theme=dark] .colab-df-convert:hover {\n",
              "      background-color: #434B5C;\n",
              "      box-shadow: 0px 1px 3px 1px rgba(0, 0, 0, 0.15);\n",
              "      filter: drop-shadow(0px 1px 2px rgba(0, 0, 0, 0.3));\n",
              "      fill: #FFFFFF;\n",
              "    }\n",
              "  </style>\n",
              "\n",
              "      <script>\n",
              "        const buttonEl =\n",
              "          document.querySelector('#df-2494a163-a0ba-4e91-8f87-c35a2b83b8b8 button.colab-df-convert');\n",
              "        buttonEl.style.display =\n",
              "          google.colab.kernel.accessAllowed ? 'block' : 'none';\n",
              "\n",
              "        async function convertToInteractive(key) {\n",
              "          const element = document.querySelector('#df-2494a163-a0ba-4e91-8f87-c35a2b83b8b8');\n",
              "          const dataTable =\n",
              "            await google.colab.kernel.invokeFunction('convertToInteractive',\n",
              "                                                     [key], {});\n",
              "          if (!dataTable) return;\n",
              "\n",
              "          const docLinkHtml = 'Like what you see? Visit the ' +\n",
              "            '<a target=\"_blank\" href=https://colab.research.google.com/notebooks/data_table.ipynb>data table notebook</a>'\n",
              "            + ' to learn more about interactive tables.';\n",
              "          element.innerHTML = '';\n",
              "          dataTable['output_type'] = 'display_data';\n",
              "          await google.colab.output.renderOutput(dataTable, element);\n",
              "          const docLink = document.createElement('div');\n",
              "          docLink.innerHTML = docLinkHtml;\n",
              "          element.appendChild(docLink);\n",
              "        }\n",
              "      </script>\n",
              "    </div>\n",
              "  </div>\n"
            ]
          },
          "metadata": {},
          "execution_count": 3
        }
      ]
    },
    {
      "cell_type": "code",
      "source": [
        "# Identificando os tipos de dados\n",
        "dados_eventos.dtypes"
      ],
      "metadata": {
        "id": "7f6Vj1JBE3TR",
        "outputId": "430ca953-48f8-4c02-e95d-c30680aa5a2d",
        "colab": {
          "base_uri": "https://localhost:8080/"
        }
      },
      "execution_count": 4,
      "outputs": [
        {
          "output_type": "execute_result",
          "data": {
            "text/plain": [
              "data_venda         object\n",
              "data_evento        object\n",
              "qtd_inscricoes      int64\n",
              "ticket            float64\n",
              "dtype: object"
            ]
          },
          "metadata": {},
          "execution_count": 4
        }
      ]
    },
    {
      "cell_type": "code",
      "source": [
        "# Alterando o tipo da coluna data\n",
        "dados_eventos['data_venda'] = pd.to_datetime(dados_eventos['data_venda'])\n",
        "# tipos\n",
        "dados_eventos.dtypes"
      ],
      "metadata": {
        "id": "AYGpoRH9Fz0w",
        "outputId": "f9be0562-617b-4e91-9ddc-f89b3e6e19ae",
        "colab": {
          "base_uri": "https://localhost:8080/"
        }
      },
      "execution_count": 5,
      "outputs": [
        {
          "output_type": "execute_result",
          "data": {
            "text/plain": [
              "data_venda        datetime64[ns]\n",
              "data_evento               object\n",
              "qtd_inscricoes             int64\n",
              "ticket                   float64\n",
              "dtype: object"
            ]
          },
          "metadata": {},
          "execution_count": 5
        }
      ]
    },
    {
      "cell_type": "code",
      "source": [
        "# Seperação velas variáveis de data e a variável que vai ser utilizada para previsão\n",
        "dados_analises = dados_eventos[['data_venda', 'qtd_inscricoes']]\n",
        "# Ajuste da coluna data para índice\n",
        "dados_analises.set_index('data_venda',inplace=True)\n",
        "dados_analises.head()"
      ],
      "metadata": {
        "id": "fNJAdtg5GgGJ",
        "outputId": "e6047bc3-7b73-427e-bea1-9c8a95a3bedc",
        "colab": {
          "base_uri": "https://localhost:8080/",
          "height": 238
        }
      },
      "execution_count": 6,
      "outputs": [
        {
          "output_type": "execute_result",
          "data": {
            "text/plain": [
              "            qtd_inscricoes\n",
              "data_venda                \n",
              "2017-02-10               7\n",
              "2017-03-23               4\n",
              "2017-03-27              11\n",
              "2017-04-10               6\n",
              "2017-04-11               4"
            ],
            "text/html": [
              "\n",
              "\n",
              "  <div id=\"df-5196e52f-54c5-44f0-91bd-9414f50aa1ce\">\n",
              "    <div class=\"colab-df-container\">\n",
              "      <div>\n",
              "<style scoped>\n",
              "    .dataframe tbody tr th:only-of-type {\n",
              "        vertical-align: middle;\n",
              "    }\n",
              "\n",
              "    .dataframe tbody tr th {\n",
              "        vertical-align: top;\n",
              "    }\n",
              "\n",
              "    .dataframe thead th {\n",
              "        text-align: right;\n",
              "    }\n",
              "</style>\n",
              "<table border=\"1\" class=\"dataframe\">\n",
              "  <thead>\n",
              "    <tr style=\"text-align: right;\">\n",
              "      <th></th>\n",
              "      <th>qtd_inscricoes</th>\n",
              "    </tr>\n",
              "    <tr>\n",
              "      <th>data_venda</th>\n",
              "      <th></th>\n",
              "    </tr>\n",
              "  </thead>\n",
              "  <tbody>\n",
              "    <tr>\n",
              "      <th>2017-02-10</th>\n",
              "      <td>7</td>\n",
              "    </tr>\n",
              "    <tr>\n",
              "      <th>2017-03-23</th>\n",
              "      <td>4</td>\n",
              "    </tr>\n",
              "    <tr>\n",
              "      <th>2017-03-27</th>\n",
              "      <td>11</td>\n",
              "    </tr>\n",
              "    <tr>\n",
              "      <th>2017-04-10</th>\n",
              "      <td>6</td>\n",
              "    </tr>\n",
              "    <tr>\n",
              "      <th>2017-04-11</th>\n",
              "      <td>4</td>\n",
              "    </tr>\n",
              "  </tbody>\n",
              "</table>\n",
              "</div>\n",
              "      <button class=\"colab-df-convert\" onclick=\"convertToInteractive('df-5196e52f-54c5-44f0-91bd-9414f50aa1ce')\"\n",
              "              title=\"Convert this dataframe to an interactive table.\"\n",
              "              style=\"display:none;\">\n",
              "\n",
              "  <svg xmlns=\"http://www.w3.org/2000/svg\" height=\"24px\"viewBox=\"0 0 24 24\"\n",
              "       width=\"24px\">\n",
              "    <path d=\"M0 0h24v24H0V0z\" fill=\"none\"/>\n",
              "    <path d=\"M18.56 5.44l.94 2.06.94-2.06 2.06-.94-2.06-.94-.94-2.06-.94 2.06-2.06.94zm-11 1L8.5 8.5l.94-2.06 2.06-.94-2.06-.94L8.5 2.5l-.94 2.06-2.06.94zm10 10l.94 2.06.94-2.06 2.06-.94-2.06-.94-.94-2.06-.94 2.06-2.06.94z\"/><path d=\"M17.41 7.96l-1.37-1.37c-.4-.4-.92-.59-1.43-.59-.52 0-1.04.2-1.43.59L10.3 9.45l-7.72 7.72c-.78.78-.78 2.05 0 2.83L4 21.41c.39.39.9.59 1.41.59.51 0 1.02-.2 1.41-.59l7.78-7.78 2.81-2.81c.8-.78.8-2.07 0-2.86zM5.41 20L4 18.59l7.72-7.72 1.47 1.35L5.41 20z\"/>\n",
              "  </svg>\n",
              "      </button>\n",
              "\n",
              "\n",
              "\n",
              "    <div id=\"df-d5491ca8-41fd-4c58-ba58-0fb594db3d87\">\n",
              "      <button class=\"colab-df-quickchart\" onclick=\"quickchart('df-d5491ca8-41fd-4c58-ba58-0fb594db3d87')\"\n",
              "              title=\"Suggest charts.\"\n",
              "              style=\"display:none;\">\n",
              "\n",
              "<svg xmlns=\"http://www.w3.org/2000/svg\" height=\"24px\"viewBox=\"0 0 24 24\"\n",
              "     width=\"24px\">\n",
              "    <g>\n",
              "        <path d=\"M19 3H5c-1.1 0-2 .9-2 2v14c0 1.1.9 2 2 2h14c1.1 0 2-.9 2-2V5c0-1.1-.9-2-2-2zM9 17H7v-7h2v7zm4 0h-2V7h2v10zm4 0h-2v-4h2v4z\"/>\n",
              "    </g>\n",
              "</svg>\n",
              "      </button>\n",
              "    </div>\n",
              "\n",
              "<style>\n",
              "  .colab-df-quickchart {\n",
              "    background-color: #E8F0FE;\n",
              "    border: none;\n",
              "    border-radius: 50%;\n",
              "    cursor: pointer;\n",
              "    display: none;\n",
              "    fill: #1967D2;\n",
              "    height: 32px;\n",
              "    padding: 0 0 0 0;\n",
              "    width: 32px;\n",
              "  }\n",
              "\n",
              "  .colab-df-quickchart:hover {\n",
              "    background-color: #E2EBFA;\n",
              "    box-shadow: 0px 1px 2px rgba(60, 64, 67, 0.3), 0px 1px 3px 1px rgba(60, 64, 67, 0.15);\n",
              "    fill: #174EA6;\n",
              "  }\n",
              "\n",
              "  [theme=dark] .colab-df-quickchart {\n",
              "    background-color: #3B4455;\n",
              "    fill: #D2E3FC;\n",
              "  }\n",
              "\n",
              "  [theme=dark] .colab-df-quickchart:hover {\n",
              "    background-color: #434B5C;\n",
              "    box-shadow: 0px 1px 3px 1px rgba(0, 0, 0, 0.15);\n",
              "    filter: drop-shadow(0px 1px 2px rgba(0, 0, 0, 0.3));\n",
              "    fill: #FFFFFF;\n",
              "  }\n",
              "</style>\n",
              "\n",
              "    <script>\n",
              "      async function quickchart(key) {\n",
              "        const containerElement = document.querySelector('#' + key);\n",
              "        const charts = await google.colab.kernel.invokeFunction(\n",
              "            'suggestCharts', [key], {});\n",
              "      }\n",
              "    </script>\n",
              "\n",
              "      <script>\n",
              "\n",
              "function displayQuickchartButton(domScope) {\n",
              "  let quickchartButtonEl =\n",
              "    domScope.querySelector('#df-d5491ca8-41fd-4c58-ba58-0fb594db3d87 button.colab-df-quickchart');\n",
              "  quickchartButtonEl.style.display =\n",
              "    google.colab.kernel.accessAllowed ? 'block' : 'none';\n",
              "}\n",
              "\n",
              "        displayQuickchartButton(document);\n",
              "      </script>\n",
              "      <style>\n",
              "    .colab-df-container {\n",
              "      display:flex;\n",
              "      flex-wrap:wrap;\n",
              "      gap: 12px;\n",
              "    }\n",
              "\n",
              "    .colab-df-convert {\n",
              "      background-color: #E8F0FE;\n",
              "      border: none;\n",
              "      border-radius: 50%;\n",
              "      cursor: pointer;\n",
              "      display: none;\n",
              "      fill: #1967D2;\n",
              "      height: 32px;\n",
              "      padding: 0 0 0 0;\n",
              "      width: 32px;\n",
              "    }\n",
              "\n",
              "    .colab-df-convert:hover {\n",
              "      background-color: #E2EBFA;\n",
              "      box-shadow: 0px 1px 2px rgba(60, 64, 67, 0.3), 0px 1px 3px 1px rgba(60, 64, 67, 0.15);\n",
              "      fill: #174EA6;\n",
              "    }\n",
              "\n",
              "    [theme=dark] .colab-df-convert {\n",
              "      background-color: #3B4455;\n",
              "      fill: #D2E3FC;\n",
              "    }\n",
              "\n",
              "    [theme=dark] .colab-df-convert:hover {\n",
              "      background-color: #434B5C;\n",
              "      box-shadow: 0px 1px 3px 1px rgba(0, 0, 0, 0.15);\n",
              "      filter: drop-shadow(0px 1px 2px rgba(0, 0, 0, 0.3));\n",
              "      fill: #FFFFFF;\n",
              "    }\n",
              "  </style>\n",
              "\n",
              "      <script>\n",
              "        const buttonEl =\n",
              "          document.querySelector('#df-5196e52f-54c5-44f0-91bd-9414f50aa1ce button.colab-df-convert');\n",
              "        buttonEl.style.display =\n",
              "          google.colab.kernel.accessAllowed ? 'block' : 'none';\n",
              "\n",
              "        async function convertToInteractive(key) {\n",
              "          const element = document.querySelector('#df-5196e52f-54c5-44f0-91bd-9414f50aa1ce');\n",
              "          const dataTable =\n",
              "            await google.colab.kernel.invokeFunction('convertToInteractive',\n",
              "                                                     [key], {});\n",
              "          if (!dataTable) return;\n",
              "\n",
              "          const docLinkHtml = 'Like what you see? Visit the ' +\n",
              "            '<a target=\"_blank\" href=https://colab.research.google.com/notebooks/data_table.ipynb>data table notebook</a>'\n",
              "            + ' to learn more about interactive tables.';\n",
              "          element.innerHTML = '';\n",
              "          dataTable['output_type'] = 'display_data';\n",
              "          await google.colab.output.renderOutput(dataTable, element);\n",
              "          const docLink = document.createElement('div');\n",
              "          docLink.innerHTML = docLinkHtml;\n",
              "          element.appendChild(docLink);\n",
              "        }\n",
              "      </script>\n",
              "    </div>\n",
              "  </div>\n"
            ]
          },
          "metadata": {},
          "execution_count": 6
        }
      ]
    },
    {
      "cell_type": "markdown",
      "source": [
        "**APLICAÇÃO DO MODELO ARIMA**\n",
        "\n",
        "\n",
        "Indentificar a ordem de integração, identificar ordem AR(p), Identificar ordem MA(q), estimar os parâmetros e avaliar o modelo."
      ],
      "metadata": {
        "id": "f4yzf4BBIExf"
      }
    },
    {
      "cell_type": "code",
      "source": [
        "# Identificando a ordem de integração(d)\n",
        "dados_analises.plot(legend = None)"
      ],
      "metadata": {
        "id": "JAmJAbI9JS-X",
        "outputId": "731f3b37-e10d-4050-9b12-3a3f7ebf1b93",
        "colab": {
          "base_uri": "https://localhost:8080/",
          "height": 450
        }
      },
      "execution_count": 7,
      "outputs": [
        {
          "output_type": "execute_result",
          "data": {
            "text/plain": [
              "<Axes: xlabel='data_venda'>"
            ]
          },
          "metadata": {},
          "execution_count": 7
        },
        {
          "output_type": "display_data",
          "data": {
            "text/plain": [
              "<Figure size 640x480 with 1 Axes>"
            ],
            "image/png": "[encoded data removed]"
          },
          "metadata": {}
        }
      ]
    },
    {
      "cell_type": "markdown",
      "source": [
        "É visto que a série está com tendência de alta, propriedades relativas a uma série não estacionária."
      ],
      "metadata": {
        "id": "QOIdXR7tLAir"
      }
    },
    {
      "cell_type": "code",
      "source": [
        "# teste\n",
        "teste_adf = adfuller(dados_analises['qtd_inscricoes'])\n",
        "# valor da estatistica\n",
        "print('Estatística ADF: {:.4}'.format(teste_adf[0]))\n",
        "# p-value\n",
        "print('p-value: {:.4}'.format(teste_adf[1]))"
      ],
      "metadata": {
        "id": "KAzWKCKuKjwK",
        "outputId": "dfb2c918-d2fa-45ec-927e-c3b9d02e8adf",
        "colab": {
          "base_uri": "https://localhost:8080/"
        }
      },
      "execution_count": 8,
      "outputs": [
        {
          "output_type": "stream",
          "name": "stdout",
          "text": [
            "Estatística ADF: 0.9259\n",
            "p-value: 0.9934\n"
          ]
        }
      ]
    },
    {
      "cell_type": "markdown",
      "source": [
        "como o valor de p-p-value foi maior que 0,05, não podemos crejeitar a hipótese nula, a série analisada não é estacionária.\n",
        "\n",
        "A técnica mais utilizada para ajustar é chamada \"primeiras diferenças\". Basicamente, podemos subtrair o valor atual pelo valor do dia anterior, bem parecido com tentar obter a taxa de variação diária."
      ],
      "metadata": {
        "id": "cMbANmncL-g1"
      }
    },
    {
      "cell_type": "code",
      "source": [
        "# primeiras diferencas\n",
        "dados_analises.diff().head()"
      ],
      "metadata": {
        "id": "dS1BVM3zMm2B",
        "outputId": "373a14b2-c6b5-41d2-dd96-6cc156be3625",
        "colab": {
          "base_uri": "https://localhost:8080/",
          "height": 238
        }
      },
      "execution_count": 9,
      "outputs": [
        {
          "output_type": "execute_result",
          "data": {
            "text/plain": [
              "            qtd_inscricoes\n",
              "data_venda                \n",
              "2017-02-10             NaN\n",
              "2017-03-23            -3.0\n",
              "2017-03-27             7.0\n",
              "2017-04-10            -5.0\n",
              "2017-04-11            -2.0"
            ],
            "text/html": [
              "\n",
              "\n",
              "  <div id=\"df-fbb9458d-c24a-479e-b18a-b0ef517a3c31\">\n",
              "    <div class=\"colab-df-container\">\n",
              "      <div>\n",
              "<style scoped>\n",
              "    .dataframe tbody tr th:only-of-type {\n",
              "        vertical-align: middle;\n",
              "    }\n",
              "\n",
              "    .dataframe tbody tr th {\n",
              "        vertical-align: top;\n",
              "    }\n",
              "\n",
              "    .dataframe thead th {\n",
              "        text-align: right;\n",
              "    }\n",
              "</style>\n",
              "<table border=\"1\" class=\"dataframe\">\n",
              "  <thead>\n",
              "    <tr style=\"text-align: right;\">\n",
              "      <th></th>\n",
              "      <th>qtd_inscricoes</th>\n",
              "    </tr>\n",
              "    <tr>\n",
              "      <th>data_venda</th>\n",
              "      <th></th>\n",
              "    </tr>\n",
              "  </thead>\n",
              "  <tbody>\n",
              "    <tr>\n",
              "      <th>2017-02-10</th>\n",
              "      <td>NaN</td>\n",
              "    </tr>\n",
              "    <tr>\n",
              "      <th>2017-03-23</th>\n",
              "      <td>-3.0</td>\n",
              "    </tr>\n",
              "    <tr>\n",
              "      <th>2017-03-27</th>\n",
              "      <td>7.0</td>\n",
              "    </tr>\n",
              "    <tr>\n",
              "      <th>2017-04-10</th>\n",
              "      <td>-5.0</td>\n",
              "    </tr>\n",
              "    <tr>\n",
              "      <th>2017-04-11</th>\n",
              "      <td>-2.0</td>\n",
              "    </tr>\n",
              "  </tbody>\n",
              "</table>\n",
              "</div>\n",
              "      <button class=\"colab-df-convert\" onclick=\"convertToInteractive('df-fbb9458d-c24a-479e-b18a-b0ef517a3c31')\"\n",
              "              title=\"Convert this dataframe to an interactive table.\"\n",
              "              style=\"display:none;\">\n",
              "\n",
              "  <svg xmlns=\"http://www.w3.org/2000/svg\" height=\"24px\"viewBox=\"0 0 24 24\"\n",
              "       width=\"24px\">\n",
              "    <path d=\"M0 0h24v24H0V0z\" fill=\"none\"/>\n",
              "    <path d=\"M18.56 5.44l.94 2.06.94-2.06 2.06-.94-2.06-.94-.94-2.06-.94 2.06-2.06.94zm-11 1L8.5 8.5l.94-2.06 2.06-.94-2.06-.94L8.5 2.5l-.94 2.06-2.06.94zm10 10l.94 2.06.94-2.06 2.06-.94-2.06-.94-.94-2.06-.94 2.06-2.06.94z\"/><path d=\"M17.41 7.96l-1.37-1.37c-.4-.4-.92-.59-1.43-.59-.52 0-1.04.2-1.43.59L10.3 9.45l-7.72 7.72c-.78.78-.78 2.05 0 2.83L4 21.41c.39.39.9.59 1.41.59.51 0 1.02-.2 1.41-.59l7.78-7.78 2.81-2.81c.8-.78.8-2.07 0-2.86zM5.41 20L4 18.59l7.72-7.72 1.47 1.35L5.41 20z\"/>\n",
              "  </svg>\n",
              "      </button>\n",
              "\n",
              "\n",
              "\n",
              "    <div id=\"df-12114b84-cd74-46c2-81f4-620cd14e6729\">\n",
              "      <button class=\"colab-df-quickchart\" onclick=\"quickchart('df-12114b84-cd74-46c2-81f4-620cd14e6729')\"\n",
              "              title=\"Suggest charts.\"\n",
              "              style=\"display:none;\">\n",
              "\n",
              "<svg xmlns=\"http://www.w3.org/2000/svg\" height=\"24px\"viewBox=\"0 0 24 24\"\n",
              "     width=\"24px\">\n",
              "    <g>\n",
              "        <path d=\"M19 3H5c-1.1 0-2 .9-2 2v14c0 1.1.9 2 2 2h14c1.1 0 2-.9 2-2V5c0-1.1-.9-2-2-2zM9 17H7v-7h2v7zm4 0h-2V7h2v10zm4 0h-2v-4h2v4z\"/>\n",
              "    </g>\n",
              "</svg>\n",
              "      </button>\n",
              "    </div>\n",
              "\n",
              "<style>\n",
              "  .colab-df-quickchart {\n",
              "    background-color: #E8F0FE;\n",
              "    border: none;\n",
              "    border-radius: 50%;\n",
              "    cursor: pointer;\n",
              "    display: none;\n",
              "    fill: #1967D2;\n",
              "    height: 32px;\n",
              "    padding: 0 0 0 0;\n",
              "    width: 32px;\n",
              "  }\n",
              "\n",
              "  .colab-df-quickchart:hover {\n",
              "    background-color: #E2EBFA;\n",
              "    box-shadow: 0px 1px 2px rgba(60, 64, 67, 0.3), 0px 1px 3px 1px rgba(60, 64, 67, 0.15);\n",
              "    fill: #174EA6;\n",
              "  }\n",
              "\n",
              "  [theme=dark] .colab-df-quickchart {\n",
              "    background-color: #3B4455;\n",
              "    fill: #D2E3FC;\n",
              "  }\n",
              "\n",
              "  [theme=dark] .colab-df-quickchart:hover {\n",
              "    background-color: #434B5C;\n",
              "    box-shadow: 0px 1px 3px 1px rgba(0, 0, 0, 0.15);\n",
              "    filter: drop-shadow(0px 1px 2px rgba(0, 0, 0, 0.3));\n",
              "    fill: #FFFFFF;\n",
              "  }\n",
              "</style>\n",
              "\n",
              "    <script>\n",
              "      async function quickchart(key) {\n",
              "        const containerElement = document.querySelector('#' + key);\n",
              "        const charts = await google.colab.kernel.invokeFunction(\n",
              "            'suggestCharts', [key], {});\n",
              "      }\n",
              "    </script>\n",
              "\n",
              "      <script>\n",
              "\n",
              "function displayQuickchartButton(domScope) {\n",
              "  let quickchartButtonEl =\n",
              "    domScope.querySelector('#df-12114b84-cd74-46c2-81f4-620cd14e6729 button.colab-df-quickchart');\n",
              "  quickchartButtonEl.style.display =\n",
              "    google.colab.kernel.accessAllowed ? 'block' : 'none';\n",
              "}\n",
              "\n",
              "        displayQuickchartButton(document);\n",
              "      </script>\n",
              "      <style>\n",
              "    .colab-df-container {\n",
              "      display:flex;\n",
              "      flex-wrap:wrap;\n",
              "      gap: 12px;\n",
              "    }\n",
              "\n",
              "    .colab-df-convert {\n",
              "      background-color: #E8F0FE;\n",
              "      border: none;\n",
              "      border-radius: 50%;\n",
              "      cursor: pointer;\n",
              "      display: none;\n",
              "      fill: #1967D2;\n",
              "      height: 32px;\n",
              "      padding: 0 0 0 0;\n",
              "      width: 32px;\n",
              "    }\n",
              "\n",
              "    .colab-df-convert:hover {\n",
              "      background-color: #E2EBFA;\n",
              "      box-shadow: 0px 1px 2px rgba(60, 64, 67, 0.3), 0px 1px 3px 1px rgba(60, 64, 67, 0.15);\n",
              "      fill: #174EA6;\n",
              "    }\n",
              "\n",
              "    [theme=dark] .colab-df-convert {\n",
              "      background-color: #3B4455;\n",
              "      fill: #D2E3FC;\n",
              "    }\n",
              "\n",
              "    [theme=dark] .colab-df-convert:hover {\n",
              "      background-color: #434B5C;\n",
              "      box-shadow: 0px 1px 3px 1px rgba(0, 0, 0, 0.15);\n",
              "      filter: drop-shadow(0px 1px 2px rgba(0, 0, 0, 0.3));\n",
              "      fill: #FFFFFF;\n",
              "    }\n",
              "  </style>\n",
              "\n",
              "      <script>\n",
              "        const buttonEl =\n",
              "          document.querySelector('#df-fbb9458d-c24a-479e-b18a-b0ef517a3c31 button.colab-df-convert');\n",
              "        buttonEl.style.display =\n",
              "          google.colab.kernel.accessAllowed ? 'block' : 'none';\n",
              "\n",
              "        async function convertToInteractive(key) {\n",
              "          const element = document.querySelector('#df-fbb9458d-c24a-479e-b18a-b0ef517a3c31');\n",
              "          const dataTable =\n",
              "            await google.colab.kernel.invokeFunction('convertToInteractive',\n",
              "                                                     [key], {});\n",
              "          if (!dataTable) return;\n",
              "\n",
              "          const docLinkHtml = 'Like what you see? Visit the ' +\n",
              "            '<a target=\"_blank\" href=https://colab.research.google.com/notebooks/data_table.ipynb>data table notebook</a>'\n",
              "            + ' to learn more about interactive tables.';\n",
              "          element.innerHTML = '';\n",
              "          dataTable['output_type'] = 'display_data';\n",
              "          await google.colab.output.renderOutput(dataTable, element);\n",
              "          const docLink = document.createElement('div');\n",
              "          docLink.innerHTML = docLinkHtml;\n",
              "          element.appendChild(docLink);\n",
              "        }\n",
              "      </script>\n",
              "    </div>\n",
              "  </div>\n"
            ]
          },
          "metadata": {},
          "execution_count": 9
        }
      ]
    },
    {
      "cell_type": "code",
      "source": [
        "# Tecnica das primeiras diferencas\n",
        "teste_adf = adfuller(dados_analises['qtd_inscricoes'].diff().dropna())\n",
        "# valor da estatistica\n",
        "\n",
        "print('Estatística ADF: {:.4}'.format(teste_adf[0]))\n",
        "# p value\n",
        "print('p-value: {:.4}'.format(teste_adf[1]))\n",
        "# grafico\n",
        "dados_analises.diff().plot(legend = None)"
      ],
      "metadata": {
        "id": "X7PBWCnMOG7h",
        "outputId": "ba529ac9-cbd7-4798-9159-a4548014a0e2",
        "colab": {
          "base_uri": "https://localhost:8080/",
          "height": 485
        }
      },
      "execution_count": 10,
      "outputs": [
        {
          "output_type": "stream",
          "name": "stdout",
          "text": [
            "Estatística ADF: -6.216\n",
            "p-value: 5.377e-08\n"
          ]
        },
        {
          "output_type": "execute_result",
          "data": {
            "text/plain": [
              "<Axes: xlabel='data_venda'>"
            ]
          },
          "metadata": {},
          "execution_count": 10
        },
        {
          "output_type": "display_data",
          "data": {
            "text/plain": [
              "<Figure size 640x480 with 1 Axes>"
            ],
            "image/png": "[encoded data removed]"
          },
          "metadata": {}
        }
      ]
    },
    {
      "cell_type": "markdown",
      "source": [
        "Um ponto é a possibilidade de realizar esse processos várias vezes até obter a estacionaridade. nesse caso foi necessário apenas 1, a ordem de integração será 1 I(1), caso fosse necessário realizar novamente,  a ordem seria I(2)."
      ],
      "metadata": {
        "id": "FocCAvvzOosZ"
      }
    },
    {
      "cell_type": "markdown",
      "source": [
        "Agora o objetivo é indentificar as ordens AR, que ocorre de forma visual pela análise do gráfico de autocorrelação parcial (PACF). Quando os valores altos de correlação parcial existe o indicativo daquele período explica os valores futuros de uma variável.\n",
        "\n",
        "Caso algum ponto esteja fora da região marcada, será uma ordem para o AR."
      ],
      "metadata": {
        "id": "7CELajVzAMNz"
      }
    },
    {
      "cell_type": "code",
      "source": [
        "# gráfico pacf\n",
        "fig = plt.figure(figsize=(12,8))\n",
        "ax1 = fig.add_subplot(211)\n",
        "fig = plot_pacf(dados_analises['qtd_inscricoes'].diff().dropna(), lags=15, ax=ax1)"
      ],
      "metadata": {
        "id": "GkxKEtY-QHG4",
        "outputId": "056019b9-ed8c-4e19-9668-c9b06ac4cff7",
        "colab": {
          "base_uri": "https://localhost:8080/",
          "height": 418
        }
      },
      "execution_count": 11,
      "outputs": [
        {
          "output_type": "stream",
          "name": "stderr",
          "text": [
            "/usr/local/lib/python3.10/dist-packages/statsmodels/graphics/tsaplots.py:348: FutureWarning: The default method 'yw' can produce PACF values outside of the [-1,1] interval. After 0.13, the default will change tounadjusted Yule-Walker ('ywm'). You can use this method now by setting method='ywm'.\n",
            "  warnings.warn(\n"
          ]
        },
        {
          "output_type": "display_data",
          "data": {
            "text/plain": [
              "<Figure size 1200x800 with 1 Axes>"
            ],
            "image/png": "[encoded data removed]"
          },
          "metadata": {}
        }
      ]
    },
    {
      "cell_type": "markdown",
      "source": [
        "Definição da orde de médias móveis MA(Q) que é bem parecido com o processo de AR porém utilizamos o gráfico de autocorrelação ACF."
      ],
      "metadata": {
        "id": "108Tho8XBRXZ"
      }
    },
    {
      "cell_type": "code",
      "source": [
        "# gráfico acf\n",
        "fig = plt.figure(figsize=(12,8))\n",
        "ax1 = fig.add_subplot(211)\n",
        "fig = plot_acf(dados_analises['qtd_inscricoes'].diff().dropna(), lags=15, ax=ax1)"
      ],
      "metadata": {
        "id": "5KlduOp8_mA-",
        "outputId": "8cb38feb-90dd-4f73-fbad-9dbd2d303487",
        "colab": {
          "base_uri": "https://localhost:8080/",
          "height": 363
        }
      },
      "execution_count": 12,
      "outputs": [
        {
          "output_type": "display_data",
          "data": {
            "text/plain": [
              "<Figure size 1200x800 with 1 Axes>"
            ],
            "image/png": "[encoded data removed]"
          },
          "metadata": {}
        }
      ]
    },
    {
      "cell_type": "markdown",
      "source": [
        "**Treinamento do modelo ARIMA**\n",
        "\n",
        "O primeiro passo é dividir as amostras de treino e teste, porém não pode ser de forma aleatoria, devemos selecionar um passado e buscar prever o futuro."
      ],
      "metadata": {
        "id": "Acx7B-KwB_qu"
      }
    },
    {
      "cell_type": "code",
      "source": [
        "# separação dos dados, para treinar o algoritmo\n",
        "# tamanho amostra teste\n",
        "test_size = 7\n",
        "# divisão dos dados\n",
        "dados_treino = dados_analises[:-test_size]\n",
        "dados_teste = dados_analises[-test_size:]"
      ],
      "metadata": {
        "id": "TXovGPvxCbta"
      },
      "execution_count": 13,
      "outputs": []
    },
    {
      "cell_type": "code",
      "source": [
        "# Avaliar se é necessário adicionar o componente MA(1) em uma próxima etapa ou não.\n",
        "# modelo\n",
        "modelo_4_1_0 = ARIMA(dados_treino['qtd_inscricoes'].values, order=(4, 1, 0), trend = 'n').fit()\n",
        "\n",
        "# resultados\n",
        "modelo_4_1_0.summary()"
      ],
      "metadata": {
        "id": "RpYvl1KbDE20",
        "outputId": "17069ebb-407a-4792-fe04-ccbf8fc27a16",
        "colab": {
          "base_uri": "https://localhost:8080/",
          "height": 473
        }
      },
      "execution_count": 14,
      "outputs": [
        {
          "output_type": "execute_result",
          "data": {
            "text/plain": [
              "<class 'statsmodels.iolib.summary.Summary'>\n",
              "\"\"\"\n",
              "                               SARIMAX Results                                \n",
              "==============================================================================\n",
              "Dep. Variable:                      y   No. Observations:                   70\n",
              "Model:                 ARIMA(4, 1, 0)   Log Likelihood                -232.880\n",
              "Date:                Sat, 05 Aug 2023   AIC                            475.759\n",
              "Time:                        00:15:43   BIC                            486.930\n",
              "Sample:                             0   HQIC                           480.191\n",
              "                                 - 70                                         \n",
              "Covariance Type:                  opg                                         \n",
              "==============================================================================\n",
              "                 coef    std err          z      P>|z|      [0.025      0.975]\n",
              "------------------------------------------------------------------------------\n",
              "ar.L1         -0.7987      0.107     -7.489      0.000      -1.008      -0.590\n",
              "ar.L2         -0.7764      0.144     -5.410      0.000      -1.058      -0.495\n",
              "ar.L3         -0.5104      0.148     -3.454      0.001      -0.800      -0.221\n",
              "ar.L4         -0.5097      0.144     -3.540      0.000      -0.792      -0.227\n",
              "sigma2        48.6514      5.788      8.406      0.000      37.307      59.995\n",
              "===================================================================================\n",
              "Ljung-Box (L1) (Q):                   0.01   Jarque-Bera (JB):               110.77\n",
              "Prob(Q):                              0.94   Prob(JB):                         0.00\n",
              "Heteroskedasticity (H):               5.23   Skew:                             1.74\n",
              "Prob(H) (two-sided):                  0.00   Kurtosis:                         8.15\n",
              "===================================================================================\n",
              "\n",
              "Warnings:\n",
              "[1] Covariance matrix calculated using the outer product of gradients (complex-step).\n",
              "\"\"\""
            ],
            "text/html": [
              "<table class=\"simpletable\">\n",
              "<caption>SARIMAX Results</caption>\n",
              "<tr>\n",
              "  <th>Dep. Variable:</th>           <td>y</td>        <th>  No. Observations:  </th>    <td>70</td>   \n",
              "</tr>\n",
              "<tr>\n",
              "  <th>Model:</th>            <td>ARIMA(4, 1, 0)</td>  <th>  Log Likelihood     </th> <td>-232.880</td>\n",
              "</tr>\n",
              "<tr>\n",
              "  <th>Date:</th>            <td>Sat, 05 Aug 2023</td> <th>  AIC                </th>  <td>475.759</td>\n",
              "</tr>\n",
              "<tr>\n",
              "  <th>Time:</th>                <td>00:15:43</td>     <th>  BIC                </th>  <td>486.930</td>\n",
              "</tr>\n",
              "<tr>\n",
              "  <th>Sample:</th>                  <td>0</td>        <th>  HQIC               </th>  <td>480.191</td>\n",
              "</tr>\n",
              "<tr>\n",
              "  <th></th>                       <td> - 70</td>      <th>                     </th>     <td> </td>   \n",
              "</tr>\n",
              "<tr>\n",
              "  <th>Covariance Type:</th>        <td>opg</td>       <th>                     </th>     <td> </td>   \n",
              "</tr>\n",
              "</table>\n",
              "<table class=\"simpletable\">\n",
              "<tr>\n",
              "     <td></td>       <th>coef</th>     <th>std err</th>      <th>z</th>      <th>P>|z|</th>  <th>[0.025</th>    <th>0.975]</th>  \n",
              "</tr>\n",
              "<tr>\n",
              "  <th>ar.L1</th>  <td>   -0.7987</td> <td>    0.107</td> <td>   -7.489</td> <td> 0.000</td> <td>   -1.008</td> <td>   -0.590</td>\n",
              "</tr>\n",
              "<tr>\n",
              "  <th>ar.L2</th>  <td>   -0.7764</td> <td>    0.144</td> <td>   -5.410</td> <td> 0.000</td> <td>   -1.058</td> <td>   -0.495</td>\n",
              "</tr>\n",
              "<tr>\n",
              "  <th>ar.L3</th>  <td>   -0.5104</td> <td>    0.148</td> <td>   -3.454</td> <td> 0.001</td> <td>   -0.800</td> <td>   -0.221</td>\n",
              "</tr>\n",
              "<tr>\n",
              "  <th>ar.L4</th>  <td>   -0.5097</td> <td>    0.144</td> <td>   -3.540</td> <td> 0.000</td> <td>   -0.792</td> <td>   -0.227</td>\n",
              "</tr>\n",
              "<tr>\n",
              "  <th>sigma2</th> <td>   48.6514</td> <td>    5.788</td> <td>    8.406</td> <td> 0.000</td> <td>   37.307</td> <td>   59.995</td>\n",
              "</tr>\n",
              "</table>\n",
              "<table class=\"simpletable\">\n",
              "<tr>\n",
              "  <th>Ljung-Box (L1) (Q):</th>     <td>0.01</td> <th>  Jarque-Bera (JB):  </th> <td>110.77</td>\n",
              "</tr>\n",
              "<tr>\n",
              "  <th>Prob(Q):</th>                <td>0.94</td> <th>  Prob(JB):          </th>  <td>0.00</td> \n",
              "</tr>\n",
              "<tr>\n",
              "  <th>Heteroskedasticity (H):</th> <td>5.23</td> <th>  Skew:              </th>  <td>1.74</td> \n",
              "</tr>\n",
              "<tr>\n",
              "  <th>Prob(H) (two-sided):</th>    <td>0.00</td> <th>  Kurtosis:          </th>  <td>8.15</td> \n",
              "</tr>\n",
              "</table><br/><br/>Warnings:<br/>[1] Covariance matrix calculated using the outer product of gradients (complex-step)."
            ]
          },
          "metadata": {},
          "execution_count": 14
        }
      ]
    },
    {
      "cell_type": "markdown",
      "source": [
        "Os p-values verificam se as defasagens utilizadas foram significantes, como todos os valores foram menores que 0,05, indica que as ordens AR foram importantes no treinamento do modelo.\n",
        "\n",
        "Os valores de coeficientes foram todos negativos, isso mostra que as vendas diminuam em um dia e que subirão no proximo, ou se as vendas aumentaram em um dia no próximo dia espera-se uma redução."
      ],
      "metadata": {
        "id": "Cy3yI8CsDn12"
      }
    },
    {
      "cell_type": "code",
      "source": [
        "# validar se o modelo ficou bem ajustado\n",
        "# acf\n",
        "fig = plt.figure(figsize=(12,8))\n",
        "ax1 = fig.add_subplot(211)\n",
        "fig = plot_acf(modelo_4_1_0.resid, lags=15, ax=ax1)\n",
        "# pacf\n",
        "fig = plt.figure(figsize=(12,8))\n",
        "ax1 = fig.add_subplot(211)\n",
        "fig = plot_pacf(modelo_4_1_0.resid, lags=15, ax=ax1)"
      ],
      "metadata": {
        "id": "DH7xfvTCDbuZ",
        "outputId": "ad56c50d-74a9-463e-dd5c-7140f030d67e",
        "colab": {
          "base_uri": "https://localhost:8080/",
          "height": 764
        }
      },
      "execution_count": 15,
      "outputs": [
        {
          "output_type": "stream",
          "name": "stderr",
          "text": [
            "/usr/local/lib/python3.10/dist-packages/statsmodels/graphics/tsaplots.py:348: FutureWarning: The default method 'yw' can produce PACF values outside of the [-1,1] interval. After 0.13, the default will change tounadjusted Yule-Walker ('ywm'). You can use this method now by setting method='ywm'.\n",
            "  warnings.warn(\n"
          ]
        },
        {
          "output_type": "display_data",
          "data": {
            "text/plain": [
              "<Figure size 1200x800 with 1 Axes>"
            ],
            "image/png": "[encoded data removed]"
          },
          "metadata": {}
        },
        {
          "output_type": "display_data",
          "data": {
            "text/plain": [
              "<Figure size 1200x800 with 1 Axes>"
            ],
            "image/png": "[encoded data removed]"
          },
          "metadata": {}
        }
      ]
    },
    {
      "cell_type": "markdown",
      "source": [
        "Nenhum ponto está fora da área marcada, indicando que nenhum outro dado do passado da série é importante para o treinamento do algoritmo, com isso podemos eliminar a ordem MA(1), já que não temos mais erros que possuem correlação com a série estudada."
      ],
      "metadata": {
        "id": "wmjhzInlE08I"
      }
    },
    {
      "cell_type": "markdown",
      "source": [
        "**Avaliação do Modelo**"
      ],
      "metadata": {
        "id": "q_xZy9scFT_S"
      }
    },
    {
      "cell_type": "code",
      "source": [
        "# Avaliação na amostra de teste, usando 7 dias do futuro.\n",
        "# obter previsoes\n",
        "previsoes_ajustadas = modelo_4_1_0.predict(start = 70, end = 76, dynamic=False)\n",
        "\n",
        "# adicionar no dataframe\n",
        "dados_teste['previsoes'] = previsoes_ajustadas\n",
        "dados_teste"
      ],
      "metadata": {
        "id": "HkRhqmnSFYXa",
        "outputId": "818ad6d1-b5b6-4204-f489-c5d51266b088",
        "colab": {
          "base_uri": "https://localhost:8080/",
          "height": 404
        }
      },
      "execution_count": 16,
      "outputs": [
        {
          "output_type": "stream",
          "name": "stderr",
          "text": [
            "<ipython-input-16-dbdda3db0ae6>:5: SettingWithCopyWarning: \n",
            "A value is trying to be set on a copy of a slice from a DataFrame.\n",
            "Try using .loc[row_indexer,col_indexer] = value instead\n",
            "\n",
            "See the caveats in the documentation: https://pandas.pydata.org/pandas-docs/stable/user_guide/indexing.html#returning-a-view-versus-a-copy\n",
            "  dados_teste['previsoes'] = previsoes_ajustadas\n"
          ]
        },
        {
          "output_type": "execute_result",
          "data": {
            "text/plain": [
              "            qtd_inscricoes  previsoes\n",
              "data_venda                           \n",
              "2017-09-04              27  21.644574\n",
              "2017-09-05              35  20.228943\n",
              "2017-09-06              32  26.492289\n",
              "2017-09-08              14  25.319557\n",
              "2017-09-11              63  22.806598\n",
              "2017-09-12              26  23.248983\n",
              "2017-09-13               3  22.252923"
            ],
            "text/html": [
              "\n",
              "\n",
              "  <div id=\"df-b714ee72-3d32-4c9c-bf62-46b9e899dc39\">\n",
              "    <div class=\"colab-df-container\">\n",
              "      <div>\n",
              "<style scoped>\n",
              "    .dataframe tbody tr th:only-of-type {\n",
              "        vertical-align: middle;\n",
              "    }\n",
              "\n",
              "    .dataframe tbody tr th {\n",
              "        vertical-align: top;\n",
              "    }\n",
              "\n",
              "    .dataframe thead th {\n",
              "        text-align: right;\n",
              "    }\n",
              "</style>\n",
              "<table border=\"1\" class=\"dataframe\">\n",
              "  <thead>\n",
              "    <tr style=\"text-align: right;\">\n",
              "      <th></th>\n",
              "      <th>qtd_inscricoes</th>\n",
              "      <th>previsoes</th>\n",
              "    </tr>\n",
              "    <tr>\n",
              "      <th>data_venda</th>\n",
              "      <th></th>\n",
              "      <th></th>\n",
              "    </tr>\n",
              "  </thead>\n",
              "  <tbody>\n",
              "    <tr>\n",
              "      <th>2017-09-04</th>\n",
              "      <td>27</td>\n",
              "      <td>21.644574</td>\n",
              "    </tr>\n",
              "    <tr>\n",
              "      <th>2017-09-05</th>\n",
              "      <td>35</td>\n",
              "      <td>20.228943</td>\n",
              "    </tr>\n",
              "    <tr>\n",
              "      <th>2017-09-06</th>\n",
              "      <td>32</td>\n",
              "      <td>26.492289</td>\n",
              "    </tr>\n",
              "    <tr>\n",
              "      <th>2017-09-08</th>\n",
              "      <td>14</td>\n",
              "      <td>25.319557</td>\n",
              "    </tr>\n",
              "    <tr>\n",
              "      <th>2017-09-11</th>\n",
              "      <td>63</td>\n",
              "      <td>22.806598</td>\n",
              "    </tr>\n",
              "    <tr>\n",
              "      <th>2017-09-12</th>\n",
              "      <td>26</td>\n",
              "      <td>23.248983</td>\n",
              "    </tr>\n",
              "    <tr>\n",
              "      <th>2017-09-13</th>\n",
              "      <td>3</td>\n",
              "      <td>22.252923</td>\n",
              "    </tr>\n",
              "  </tbody>\n",
              "</table>\n",
              "</div>\n",
              "      <button class=\"colab-df-convert\" onclick=\"convertToInteractive('df-b714ee72-3d32-4c9c-bf62-46b9e899dc39')\"\n",
              "              title=\"Convert this dataframe to an interactive table.\"\n",
              "              style=\"display:none;\">\n",
              "\n",
              "  <svg xmlns=\"http://www.w3.org/2000/svg\" height=\"24px\"viewBox=\"0 0 24 24\"\n",
              "       width=\"24px\">\n",
              "    <path d=\"M0 0h24v24H0V0z\" fill=\"none\"/>\n",
              "    <path d=\"M18.56 5.44l.94 2.06.94-2.06 2.06-.94-2.06-.94-.94-2.06-.94 2.06-2.06.94zm-11 1L8.5 8.5l.94-2.06 2.06-.94-2.06-.94L8.5 2.5l-.94 2.06-2.06.94zm10 10l.94 2.06.94-2.06 2.06-.94-2.06-.94-.94-2.06-.94 2.06-2.06.94z\"/><path d=\"M17.41 7.96l-1.37-1.37c-.4-.4-.92-.59-1.43-.59-.52 0-1.04.2-1.43.59L10.3 9.45l-7.72 7.72c-.78.78-.78 2.05 0 2.83L4 21.41c.39.39.9.59 1.41.59.51 0 1.02-.2 1.41-.59l7.78-7.78 2.81-2.81c.8-.78.8-2.07 0-2.86zM5.41 20L4 18.59l7.72-7.72 1.47 1.35L5.41 20z\"/>\n",
              "  </svg>\n",
              "      </button>\n",
              "\n",
              "\n",
              "\n",
              "    <div id=\"df-af8ad5dc-a74b-44b4-b703-0c318ad88b90\">\n",
              "      <button class=\"colab-df-quickchart\" onclick=\"quickchart('df-af8ad5dc-a74b-44b4-b703-0c318ad88b90')\"\n",
              "              title=\"Suggest charts.\"\n",
              "              style=\"display:none;\">\n",
              "\n",
              "<svg xmlns=\"http://www.w3.org/2000/svg\" height=\"24px\"viewBox=\"0 0 24 24\"\n",
              "     width=\"24px\">\n",
              "    <g>\n",
              "        <path d=\"M19 3H5c-1.1 0-2 .9-2 2v14c0 1.1.9 2 2 2h14c1.1 0 2-.9 2-2V5c0-1.1-.9-2-2-2zM9 17H7v-7h2v7zm4 0h-2V7h2v10zm4 0h-2v-4h2v4z\"/>\n",
              "    </g>\n",
              "</svg>\n",
              "      </button>\n",
              "    </div>\n",
              "\n",
              "<style>\n",
              "  .colab-df-quickchart {\n",
              "    background-color: #E8F0FE;\n",
              "    border: none;\n",
              "    border-radius: 50%;\n",
              "    cursor: pointer;\n",
              "    display: none;\n",
              "    fill: #1967D2;\n",
              "    height: 32px;\n",
              "    padding: 0 0 0 0;\n",
              "    width: 32px;\n",
              "  }\n",
              "\n",
              "  .colab-df-quickchart:hover {\n",
              "    background-color: #E2EBFA;\n",
              "    box-shadow: 0px 1px 2px rgba(60, 64, 67, 0.3), 0px 1px 3px 1px rgba(60, 64, 67, 0.15);\n",
              "    fill: #174EA6;\n",
              "  }\n",
              "\n",
              "  [theme=dark] .colab-df-quickchart {\n",
              "    background-color: #3B4455;\n",
              "    fill: #D2E3FC;\n",
              "  }\n",
              "\n",
              "  [theme=dark] .colab-df-quickchart:hover {\n",
              "    background-color: #434B5C;\n",
              "    box-shadow: 0px 1px 3px 1px rgba(0, 0, 0, 0.15);\n",
              "    filter: drop-shadow(0px 1px 2px rgba(0, 0, 0, 0.3));\n",
              "    fill: #FFFFFF;\n",
              "  }\n",
              "</style>\n",
              "\n",
              "    <script>\n",
              "      async function quickchart(key) {\n",
              "        const containerElement = document.querySelector('#' + key);\n",
              "        const charts = await google.colab.kernel.invokeFunction(\n",
              "            'suggestCharts', [key], {});\n",
              "      }\n",
              "    </script>\n",
              "\n",
              "      <script>\n",
              "\n",
              "function displayQuickchartButton(domScope) {\n",
              "  let quickchartButtonEl =\n",
              "    domScope.querySelector('#df-af8ad5dc-a74b-44b4-b703-0c318ad88b90 button.colab-df-quickchart');\n",
              "  quickchartButtonEl.style.display =\n",
              "    google.colab.kernel.accessAllowed ? 'block' : 'none';\n",
              "}\n",
              "\n",
              "        displayQuickchartButton(document);\n",
              "      </script>\n",
              "      <style>\n",
              "    .colab-df-container {\n",
              "      display:flex;\n",
              "      flex-wrap:wrap;\n",
              "      gap: 12px;\n",
              "    }\n",
              "\n",
              "    .colab-df-convert {\n",
              "      background-color: #E8F0FE;\n",
              "      border: none;\n",
              "      border-radius: 50%;\n",
              "      cursor: pointer;\n",
              "      display: none;\n",
              "      fill: #1967D2;\n",
              "      height: 32px;\n",
              "      padding: 0 0 0 0;\n",
              "      width: 32px;\n",
              "    }\n",
              "\n",
              "    .colab-df-convert:hover {\n",
              "      background-color: #E2EBFA;\n",
              "      box-shadow: 0px 1px 2px rgba(60, 64, 67, 0.3), 0px 1px 3px 1px rgba(60, 64, 67, 0.15);\n",
              "      fill: #174EA6;\n",
              "    }\n",
              "\n",
              "    [theme=dark] .colab-df-convert {\n",
              "      background-color: #3B4455;\n",
              "      fill: #D2E3FC;\n",
              "    }\n",
              "\n",
              "    [theme=dark] .colab-df-convert:hover {\n",
              "      background-color: #434B5C;\n",
              "      box-shadow: 0px 1px 3px 1px rgba(0, 0, 0, 0.15);\n",
              "      filter: drop-shadow(0px 1px 2px rgba(0, 0, 0, 0.3));\n",
              "      fill: #FFFFFF;\n",
              "    }\n",
              "  </style>\n",
              "\n",
              "      <script>\n",
              "        const buttonEl =\n",
              "          document.querySelector('#df-b714ee72-3d32-4c9c-bf62-46b9e899dc39 button.colab-df-convert');\n",
              "        buttonEl.style.display =\n",
              "          google.colab.kernel.accessAllowed ? 'block' : 'none';\n",
              "\n",
              "        async function convertToInteractive(key) {\n",
              "          const element = document.querySelector('#df-b714ee72-3d32-4c9c-bf62-46b9e899dc39');\n",
              "          const dataTable =\n",
              "            await google.colab.kernel.invokeFunction('convertToInteractive',\n",
              "                                                     [key], {});\n",
              "          if (!dataTable) return;\n",
              "\n",
              "          const docLinkHtml = 'Like what you see? Visit the ' +\n",
              "            '<a target=\"_blank\" href=https://colab.research.google.com/notebooks/data_table.ipynb>data table notebook</a>'\n",
              "            + ' to learn more about interactive tables.';\n",
              "          element.innerHTML = '';\n",
              "          dataTable['output_type'] = 'display_data';\n",
              "          await google.colab.output.renderOutput(dataTable, element);\n",
              "          const docLink = document.createElement('div');\n",
              "          docLink.innerHTML = docLinkHtml;\n",
              "          element.appendChild(docLink);\n",
              "        }\n",
              "      </script>\n",
              "    </div>\n",
              "  </div>\n"
            ]
          },
          "metadata": {},
          "execution_count": 16
        }
      ]
    },
    {
      "cell_type": "code",
      "source": [
        "# separar os dados\n",
        "dados_reais = dados_teste['qtd_inscricoes'].values\n",
        "# obter rmse\n",
        "rmse = np.sqrt(mean_squared_error(dados_reais, previsoes_ajustadas))\n",
        "\n",
        "# obter mape\n",
        "mape = mean_absolute_percentage_error(dados_reais, previsoes_ajustadas)\n",
        "\n",
        "# obter mae\n",
        "mae = mean_absolute_error(dados_reais, previsoes_ajustadas)\n",
        "rmse, mape, mae"
      ],
      "metadata": {
        "id": "Y9PHkfnoFvpT",
        "outputId": "a2c53893-c00a-44f7-e53d-95e68e04112f",
        "colab": {
          "base_uri": "https://localhost:8080/"
        }
      },
      "execution_count": 19,
      "outputs": [
        {
          "output_type": "execute_result",
          "data": {
            "text/plain": [
              "(18.512870641889556, 1.2517821159281215, 14.164441820087749)"
            ]
          },
          "metadata": {},
          "execution_count": 19
        }
      ]
    },
    {
      "cell_type": "markdown",
      "source": [
        "Esse valores sozinhos não traz tanta informação, mas caso um segundo modelo seja aplicado podemos comparar essas decorrências e definir qual algoritmo trouxe o melhor resultado."
      ],
      "metadata": {
        "id": "cmDMGMGOGL3h"
      }
    }
  ]
}