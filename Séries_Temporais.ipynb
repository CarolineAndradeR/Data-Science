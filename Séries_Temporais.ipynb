{
  "nbformat": 4,
  "nbformat_minor": 0,
  "metadata": {
    "colab": {
      "provenance": [],
      "authorship_tag": "ABX9TyMJExtbVKixNS8xi211cCgH",
      "include_colab_link": true
    },
    "kernelspec": {
      "name": "python3",
      "display_name": "Python 3"
    },
    "language_info": {
      "name": "python"
    }
  },
  "cells": [
    {
      "cell_type": "markdown",
      "metadata": {
        "id": "view-in-github",
        "colab_type": "text"
      },
      "source": [
        "<a href=\"https://colab.research.google.com/github/CarolineAndradeR/Data-Science/blob/main/S%C3%A9ries_Temporais.ipynb\" target=\"_parent\"><img src=\"https://colab.research.google.com/assets/colab-badge.svg\" alt=\"Open In Colab\"/></a>"
      ]
    },
    {
      "cell_type": "markdown",
      "source": [
        "# **Conceitos**"
      ],
      "metadata": {
        "id": "GReVsmYlS-nS"
      }
    },
    {
      "cell_type": "markdown",
      "source": [
        "Na área de estudos de séries temporais observar o passado é funamental para verificação de tendências e projeções de metas.\n",
        "\n",
        "Cinco aplicações para séries temporais:\n",
        "*   Projeção de valores futuros de uma série\n",
        "*   Definição da sequência de entradas e saídas de sistemas dinâmicos.\n",
        "*   Realizar análise de interveções, como políticas públicas ou política de preços.\n",
        "*   Verifiar a correlação dinâmica entre diversas variáveis no tempo.\n",
        "*   Analisar controles de sistemas e potencial de desvios.\n",
        "\n",
        "Uma série temporal é uma sequeência de observações ordenadas no tempo.\n",
        "\n",
        "Graficamente, uma série temporal é representada com o eixo x, o tempo e o eixo y, a medida observada. Considerabdo o contexto de modelo de regressão linear, bastaríamos ajustar uma reta em que a variável dependente seria a medida observada e a variável independente, o tempo.\n",
        "\n",
        "O modelo clássico de regressão é insuficiente para explicar toda a dinâmica existente em uma série temporal já que não captura estrutura relacionadas com o tempo. Uma dessas dinâmicas é o fenômeno da possível correlação existente entre os dias passado, possibilitando estimar um dos modelos mais conhecidos o ARIMA.\n",
        "\n",
        "**ARIMA**\n",
        "Se tornou bastante utilizado devido á sua simplicidade de estimação, a captura dessas três estruturas possibilta um melhor ajuste da série e, consequentemente, a capacidade de previsão.\n",
        "\n",
        "AR - Autoregressive\n",
        "I - Intefrated\n",
        "MA - Moving Average\n",
        "\n",
        "Para ajustar um modelo ARIMA são necessários seis passos:\n",
        "* Plotar os dados.\n",
        "* Verificar a necessidade de transforma os dados (verificar estacionariedade).\n",
        "* Identficar as ordens de dependência.\n",
        "* Estimar os parâmetros.\n",
        "* Diagnostcar a qualidade do modelo.\n",
        "\n",
        "**Conceito de Estacionalidade**\n",
        "\n",
        "Uma série temporal é considerada como um processo estocástico (é uma variável que se comporta, durante o tempo, de uma Maneira onde pelo menos parte e considerada randômica)\n",
        "\n",
        "A primeira restrição remetente ao termo \"estacionalidade\", se refere ao equilibrio estatístico, visto é, apesar de os valores da série variarem no tempo, as propraridades probalísticas não mudam no tempo.\n",
        "\n",
        "Séries estacionárias possuem media e variância constantes.\n",
        "\n",
        "\n",
        "Caso uma série temporal não seja estacionária, podemos realizar transformações para obter a estacionaridade,u,, assim possibilitar na estimação dos parametros e previsão das observações futuras.|\n",
        "\n",
        "Podemao definir no modelo ARIMA, nesse mitodo, a série ajustada para manter ou estacioraridade, conforme a ordem de integração, e cos parâmetros são ajustados de acordo com as ordens autorregressivas e as ordens de médias moveis.\n",
        "\n",
        "Também podemos dividir a amostra de análise para treino u teste.  A diferença para os casos é que a divisão é mediada por uma relata v de referência.\n",
        "\n",
        "Por exemplo,care tenhamos uma série de vendas no período entre 01 /01/2000  e 0 1/01/2010, podemos definir uma data de referência como 01/01/2009. Dessa  forma, a amostra de treinamento poderá compreender  o período entre 01/01/2000 e 31/12/2008, e a amostra de teste, período entre 01/01/2009 e 01/01/2010.\n",
        "\n",
        "No caso de séries temporais, as métricas de avaliação na  amostra de testes são MAE (mean absolute error), MAPE ( mean absolute percentage erros )  e  RMSE ' root mean squared erros )."
      ],
      "metadata": {
        "id": "tCLUQcRlTY6h"
      }
    },
    {
      "cell_type": "code",
      "execution_count": null,
      "metadata": {
        "id": "NTa-RzTARtmX"
      },
      "outputs": [],
      "source": []
    },
    {
      "cell_type": "code",
      "source": [],
      "metadata": {
        "id": "3pciDeKY6jcf"
      },
      "execution_count": null,
      "outputs": []
    }
  ]
}