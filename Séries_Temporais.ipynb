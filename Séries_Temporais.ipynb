{
  "nbformat": 4,
  "nbformat_minor": 0,
  "metadata": {
    "colab": {
      "provenance": [],
      "authorship_tag": "ABX9TyN/Aavmj7fy3LVbWoAc2mvt",
      "include_colab_link": true
    },
    "kernelspec": {
      "name": "python3",
      "display_name": "Python 3"
    },
    "language_info": {
      "name": "python"
    }
  },
  "cells": [
    {
      "cell_type": "markdown",
      "metadata": {
        "id": "view-in-github",
        "colab_type": "text"
      },
      "source": [
        "<a href=\"https://colab.research.google.com/github/CarolineAndradeR/Data-Science/blob/main/S%C3%A9ries_Temporais.ipynb\" target=\"_parent\"><img src=\"https://colab.research.google.com/assets/colab-badge.svg\" alt=\"Open In Colab\"/></a>"
      ]
    },
    {
      "cell_type": "markdown",
      "source": [
        "# **Conceitos**"
      ],
      "metadata": {
        "id": "GReVsmYlS-nS"
      }
    },
    {
      "cell_type": "markdown",
      "source": [
        "Na área de estudos de séries temporais observar o passado é funamental para verificação de tendências e projeções de metas.\n",
        "\n",
        "Cinco aplicações para séries temporais:\n",
        "*   Projeção de valores futuros de uma série\n",
        "*   Definição da sequência de entradas e saídas de sistemas dinâmicos.\n",
        "*   Realizar análise de interveções, como políticas públicas ou política de preços.\n",
        "*   Verifiar a correlação dinâmica entre diversas variáveis no tempo.\n",
        "*   Analisar controles de sistemas e potencial de desvios.\n",
        "\n",
        "Uma série temporal é uma sequeência de observações ordenadas no tempo.\n",
        "\n",
        "Graficamente, uma série temporal é representada com o eixo x, o tempo e o eixo y, a medida observada. Considerabdo o contexto de modelo de regressão linear, bastaríamos ajustar uma reta em que a variável dependente seria a medida observada e a variável independente, o tempo.\n",
        "\n",
        "O modelo clássico de regressão é insuficiente para explicar toda a dinâmica existente em uma série temporal já que não captura estrutura relacionadas com o tempo. Uma dessas dinâmicas é o fenômeno da possível correlação existente entre os dias passado, possibilitando estimar um dos modelos mais conhecidos o ARIMA.\n",
        "\n",
        "**ARIMA**\n",
        "Se tornou bastante utilizado devido á sua simplicidade de estimação, a captura dessas três estruturas possibilta um melhor ajuste da série e, consequentemente, a capacidade de previsão.\n",
        "\n",
        "AR - Autoregressive\n",
        "I - Intefrated\n",
        "MA - Moving Average\n",
        "\n",
        "Para ajustar um modelo ARIMA são necessários seis passos:\n",
        "* Plotar os dados.\n",
        "* Verificar a necessidade de transforma os dados (verificar estacionariedade).\n",
        "* Identficar as ordens de dependência.\n",
        "* Estimar os parâmetros.\n",
        "* Diagnostcar a qualidade do modelo.\n",
        "\n",
        "\n"
      ],
      "metadata": {
        "id": "tCLUQcRlTY6h"
      }
    },
    {
      "cell_type": "code",
      "execution_count": null,
      "metadata": {
        "id": "NTa-RzTARtmX"
      },
      "outputs": [],
      "source": []
    }
  ]
}