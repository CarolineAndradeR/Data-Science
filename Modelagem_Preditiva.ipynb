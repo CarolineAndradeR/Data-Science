{
  "nbformat": 4,
  "nbformat_minor": 0,
  "metadata": {
    "colab": {
      "provenance": [],
      "authorship_tag": "ABX9TyPPwh0Bge/btOt1gw0U1T+T",
      "include_colab_link": true
    },
    "kernelspec": {
      "name": "python3",
      "display_name": "Python 3"
    },
    "language_info": {
      "name": "python"
    }
  },
  "cells": [
    {
      "cell_type": "markdown",
      "metadata": {
        "id": "view-in-github",
        "colab_type": "text"
      },
      "source": [
        "<a href=\"https://colab.research.google.com/github/CarolineAndradeR/Data-Science/blob/main/Modelagem_Preditiva.ipynb\" target=\"_parent\"><img src=\"https://colab.research.google.com/assets/colab-badge.svg\" alt=\"Open In Colab\"/></a>"
      ]
    },
    {
      "cell_type": "markdown",
      "source": [
        "# **Conceitos**"
      ],
      "metadata": {
        "id": "M35R0RwxOwkJ"
      }
    },
    {
      "cell_type": "markdown",
      "source": [
        "A ideia é simples: Utilizar uma base de dados conhecida de um determindo evento para prever o que acontecerá num momento futuro, mantendo as principais características nas quais o evento está envolvido.\n",
        "\n",
        "Classificação evolutiva em relação á decisão e ação:\n",
        "*   Análise Descritiva: descreve o histórico do que aconteceu.\n",
        "*   Análise Diágnostica: traz os porquês de algo ter acontecido.\n",
        "*   **Análise Preditiva: Procura trazer o que acontecerá, uma previsão.**\n",
        "*   Análise Prescitiva: Traz ações que deveria ser feitas.\n",
        "*   Inteligência Artificial: Automatização de ações humanas.\n",
        "\n",
        "\n",
        "Um modelo/ análise preditiva é conhecida como um tipo de apredizagem supervisionada.\n",
        "\n",
        "**Variável-alvo** - variável dependente, variável endógena ou simplesmente Y.\n",
        "**Variáveis preditoras** - variáveis independentes, variáveis exogenas, features (caracterizada) ou simplesmente X's.\n",
        "\n",
        "**Regressores** - Quando realizamos previsões de variáveis numéricas.\n",
        "**Classificadores** - Quando realizamos previsões categóricas.\n",
        "\n",
        "\n",
        "**Pipeline de Modelos Preditivos**\n",
        "\n",
        "Etapas do processo:\n",
        "\n",
        "1. Entendimento do Négocio: entender qual o objetivo, pois é ele que nos guiará durante o processo. Responder o que estamos querendo prever. Nessa etapa entedemos se vamos trabalhar com regressor ou classificador e também definir qual é a variável-alvo.\n",
        "2. Entendimento dos dados: Entender quais dados serão necessários para atingir o objetivo.\n",
        "3. Preparação dos dados: Entra desde limpezas de dados, até as transformações de variáveis. Essa etapa também é conhecida como feature engineer, dado que estamos trabalhando na engenharia (construção, transformação etc.) das features (ou variáveis preditoras).\n",
        "4. Modelagem estatistica: Construção dos modelos estatísticos. É chamado dessa forma por não possuir fórmulas exatas, precisas, como são estimativas de futuro sempre há um erro (estatístico) associado, inerente ao processo.\n",
        "5. Avaliação do mdelo: Após a construção do modelo é necessário avaliar se o modelo tem erro estatístico estimado aceitável. Nesse etapa é importante saber analisar os erros.\n",
        "6. Deploy: Ambiente de produção."
      ],
      "metadata": {
        "id": "C3g6zTvKOzWi"
      }
    },
    {
      "cell_type": "code",
      "execution_count": null,
      "metadata": {
        "id": "w1A46punODPq"
      },
      "outputs": [],
      "source": [
        "# Estruturação do pipeline - Básica\n",
        "\n",
        "# 1 - Carga das bibliotecas\n",
        "import pandas as pd\n",
        "from sklearn.model_selection import train_test_split\n",
        "from sklearn import tree\n",
        "from sklearn.metrics import accuracy_score\n",
        "from sklearn.metrics import precision_score\n",
        "from sklearn.metrics import recall_score\n",
        "\n",
        "# 2 - Carga dos dados\n",
        "df = pd.read_csv(\"https://raw.githubusercontent.com/diogenesjusto/FIAP-On-Line-Graduation/main/datasets/arvore_title.csv\")\n",
        "\n",
        "# 3 - Preparação dos dados - Feature Enginee\n",
        "# Não foi construído nenhuma transformação de dados\n",
        "\n",
        "# 4 - Separação das amostras de treino e teste\n",
        "x_treino, x_teste, y_treino, y_teste = train_test_split(df[['wine_year', 'wine_price']], df['wine_rating'],test_size=0.3266, random_state=33)\n",
        "\n",
        "# 5 - Construção do modelo\n",
        "mod = LinearRegression()\n",
        "mod.fit(x_treino,y_treino)\n",
        "\n",
        "# 6 - Avaliação do modelo\n",
        "y_prev = mod.predict(x_teste)\n",
        "accuracy_score(y_teste, y_prev)"
      ]
    }
  ]
}