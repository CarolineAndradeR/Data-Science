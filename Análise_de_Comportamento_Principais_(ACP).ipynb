{
  "nbformat": 4,
  "nbformat_minor": 0,
  "metadata": {
    "colab": {
      "provenance": [],
      "authorship_tag": "ABX9TyPXXjOMOmL0xialuwlFtXfC",
      "include_colab_link": true
    },
    "kernelspec": {
      "name": "python3",
      "display_name": "Python 3"
    },
    "language_info": {
      "name": "python"
    }
  },
  "cells": [
    {
      "cell_type": "markdown",
      "metadata": {
        "id": "view-in-github",
        "colab_type": "text"
      },
      "source": [
        "<a href=\"https://colab.research.google.com/github/CarolineAndradeR/Data-Science/blob/main/An%C3%A1lise_de_Comportamento_Principais_(ACP).ipynb\" target=\"_parent\"><img src=\"https://colab.research.google.com/assets/colab-badge.svg\" alt=\"Open In Colab\"/></a>"
      ]
    },
    {
      "cell_type": "markdown",
      "source": [
        "# **Conceito**"
      ],
      "metadata": {
        "id": "1MbvxFxKI4UC"
      }
    },
    {
      "cell_type": "markdown",
      "source": [
        "Muitas vezes o desafio da área de negócio não é explicar se uma variável objetiva foi importante ou avaliar se alguma determinada ação foi sucesso ou fracasso, em alguns casos é necessário encontrar padrões novos nos dados que ainda não foram percebidos ou criar índices para resumIr a grande quantidade de colunas existes em um bando de dados.\n",
        "\n",
        "Nesses momentos é usado os modelos de ML não supervisionados.\n",
        "\n",
        "**Análise de Comportamento Principais (ACP)**\n",
        "\n",
        "É uma técnica voltada a transforma um conjunto de variáveis correlacionadas em um conjunto menor de dimensão, ou seja, a nova dimensão (o componente principal) em uma combinação linear das variáveis originais. Com objetivos matemáticos, visando ajustar linhas e planos em um sistema de pontos.\n",
        "\n",
        "Pode ser utilizada tanto para resumir quanto para reduzir a quantidade de informações de um banco de dados e transformar em índices mais simples de serem explicados.\n",
        "\n",
        "EX: Temos um tabela com 3 atributos (educação, renda e saúde) e queremos uma média das três colunas, isso é uma forma de reduzir a dimensão, porém não estaríamos considerando a possível correlação existe entre as variáveis, fazendo com que possamos induzir diversos erros de medidas, tornandoa a mensuração da média pouco confiável.\n",
        "\n",
        "Com a técnica ACP permite que as dimensões sejam reduzidas considerando a média ponderada, sendo que os pesos são obtidos por meio da correlação entre as variáveis utilizadas.\n",
        "\n",
        "Ponto importante seria entender quando aplicar essa técnica, já que não é em todo caso que seria a melhor opção.\n",
        "\n",
        "O primeiro passo a ser entendi é que a ACP é aplicada somente nas colunas do banco de dados. Segundo é verificar a correlação entre essas variáveis, caso os coeficientes sejam muito baixos, também não devemos aplicar essa técnica.\n",
        "\n",
        "**AUTOVALORES E AUTOVETORES**\n",
        "\n",
        "Conceitos relativamente avançados relacionados à álgebra linear são aplicado, dessa forma é obtido a redução de dimensão. Esse processo é obtido por meio da extração de autovalores e autovetores.\n",
        "\n",
        "Conceito de decomposição de matrizes pode ser aplicado caso exista uma correlação muito alta entre o intervalo dos variáveis. Esse conceito indica que uma matriz pode ser decomposta em outras, mas toda a informação armazenada será mantida.\n",
        "\n",
        "**Procedimentos Para realizar uma análise de componentes principais**\n",
        "\n",
        "1. Gerar e analisar a matriz de correlação.\n",
        "Seria analisar a matriz de correlações é essencial, somente após essa análise podemos definir a possibilidade de realizar a ACP ou não. A dica nesse estágio é verificar as correlações, quanto mais correlações altas não encontradas, melhor será a qualidade da ACP.\n",
        "2. Definir o número de componentes a serem extraídos.\n",
        "\n",
        "3. Interpretação dos componentes (etapa opcional)\n",
        "\n",
        "\n",
        "\n",
        "\n",
        "\n",
        "**O que seria reduzir dimensão de dados?**\n",
        "**Quando seria o caso de realizar esse processo**\n",
        "\n",
        "\n"
      ],
      "metadata": {
        "id": "KBHS64D6JGEH"
      }
    }
  ]
}