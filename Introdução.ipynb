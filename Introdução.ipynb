{
  "nbformat": 4,
  "nbformat_minor": 0,
  "metadata": {
    "colab": {
      "provenance": [],
      "authorship_tag": "ABX9TyOLt+zvkfSD/hTRGVMBV+Sh",
      "include_colab_link": true
    },
    "kernelspec": {
      "name": "python3",
      "display_name": "Python 3"
    },
    "language_info": {
      "name": "python"
    }
  },
  "cells": [
    {
      "cell_type": "markdown",
      "metadata": {
        "id": "view-in-github",
        "colab_type": "text"
      },
      "source": [
        "<a href=\"https://colab.research.google.com/github/CarolineAndradeR/Data-Science/blob/main/Introdu%C3%A7%C3%A3o.ipynb\" target=\"_parent\"><img src=\"https://colab.research.google.com/assets/colab-badge.svg\" alt=\"Open In Colab\"/></a>"
      ]
    },
    {
      "cell_type": "markdown",
      "source": [
        "**O que é?**\n",
        "\n",
        "A ciência de dados é uma extensão evolutiva da estatística, capaz de lidar com grandes quantidades de dados (Big Data), com análise exploratória e o processamento de dados de diferentes formatos, gerados a partir de diversas fontes e em velocidades diferentes.\n",
        "\n",
        "\n",
        "**Pilares**\n",
        "\n",
        "É uma área multidisciplinar, envolve diversos profissionais e áreas de conhecimento.\n",
        "\n",
        "**Dados** - São elementos, como números, medidas, valores ou obervações, de forma isolada, sem contexto não tem significado, mas serve de matéria bruta para se obter informações.\n",
        "\n",
        "\n",
        "**Pilares da Ciência de dados**\n",
        "* Tecnolodia da informação: Conhecer lógica computacional, algoritmos e linguagem de programação, frequentemente são utilizadas ferramentas como java, python, hadoop, R, Julia, além de conhecimento em cloud computing, processamento paralelizado, versionamento e escalabilidade.\n",
        "\n",
        "* Matemática e Estatística: é fundamental compreenssão de habilidades estatísticas para prever eventos futuros e descobrir padrões em dados, além de análises exploratórias, plotagem e cálculos estatísticos e probabilístivos e modelagem para aprendizagem de máquina supervisionado e não supervisionado. Conheciementos matemáticos necessário: geometria, matemática discreta, álgebra linear e cálculo de derivada/integral.\n",
        "\n",
        "* Domínio do Negócio: Exige profundidade e abrangência do profissional de DS sobre os dados que estão sendo manipulados.\n",
        "\n",
        "\n",
        "**Processos de Tomada de Decisão e Descoberta do Conhecimento**\n",
        "\n",
        "As tomadas de decisões são ações tomadas com base nos resultados obtidos de ciência de dados.\n",
        "\n",
        "Problema da tomada de decisão - começando com uma pergunta de negócio: próxima etapa dados brutos, como entradas de sistema: ciência de dados (responsável por extrair informação de valor dos dados): ação de tomada de decisão baseada na resposta do sistema de DS.\n",
        "\n",
        "\n",
        "\n",
        "**KDD - KNOWLEDGE DISCOVERY IN DATABASES**\n",
        "\n",
        "KDD - Conjunto de técnicas de mineração de dados em um canjunto de dados para extrair o que é considerado conhecimento útil,seguindo especificações previamente definidas e com aplicação de técnicas de pré-processamento, subamostragem e transformações nos dados do banco de dados."
      ],
      "metadata": {
        "id": "oKe7VjcQDQqN"
      }
    },
    {
      "cell_type": "markdown",
      "source": [],
      "metadata": {
        "id": "bXWL810PPQoM"
      }
    }
  ]
}