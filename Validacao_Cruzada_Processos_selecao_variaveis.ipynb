{
  "nbformat": 4,
  "nbformat_minor": 0,
  "metadata": {
    "colab": {
      "provenance": [],
      "authorship_tag": "ABX9TyMPHfyipZQiGOGDG+lRCDsd",
      "include_colab_link": true
    },
    "kernelspec": {
      "name": "python3",
      "display_name": "Python 3"
    },
    "language_info": {
      "name": "python"
    }
  },
  "cells": [
    {
      "cell_type": "markdown",
      "metadata": {
        "id": "view-in-github",
        "colab_type": "text"
      },
      "source": [
        "<a href=\"https://colab.research.google.com/github/CarolineAndradeR/Data-Science/blob/main/Validacao_Cruzada_Processos_selecao_variaveis.ipynb\" target=\"_parent\"><img src=\"https://colab.research.google.com/assets/colab-badge.svg\" alt=\"Open In Colab\"/></a>"
      ]
    },
    {
      "cell_type": "markdown",
      "source": [
        "# **Conceitor**"
      ],
      "metadata": {
        "id": "k_9Gosxeo6p-"
      }
    },
    {
      "cell_type": "markdown",
      "source": [
        "O objetivo da aprendizagem supervisionada é utilizar inputs (variáveis que podem ter influência em alguma determinada saída) para realizar previsões em algum determinado output (a saída ou resultado esperado).\n",
        "\n",
        "Capacidade preditiva de um algoritmo de ML precisa ser avaliada em dados de teste completamente separados das amostras de treino e teste. Nessa nova etapa podemos garantir a melhor escolha do modelo, e mensurar a qualidade dos resultados.\n",
        "\n",
        "Nessa nova etapa de qualidade é direcionada pelo conceiro de estabilidade do algoritmo, a capaciodade do modelo conseguir se adaptar a dados ainda não observados durante o treinamento.\n",
        "\n",
        "**Viés (tendência)-** quando os valores previstos estão muito próximos, em média, dos verdadeiros valores observados.\n",
        "\n",
        "**Variância -** Os valores podem ser próximos, existindo o risco de os valores previstos apresentarem uma variablidade significativamente alta, conforme novos dados são incorporado no banco de dados.\n",
        "\n",
        "Além de manter a qualidade do modelo, é necessário interpretar os resultados do ponto de vista do négocio e otimizar, no caso a complexibilidade do modelo, quanto mais complexo um algoritmo, mais dificíl se torna a interpretação.\n",
        "\n",
        "Uma das estratégias mais utilizadas para ajustar modelos de ML é dividir os dados em amostras de treino, validação e teste. A amostra de treino é utilizada para ajustar os modelos; a de validação é usada para seleção do melhor algoritmo e a amostra de teste é aproveitada para tomar a decisão final. O uso da amostra de teste é usada apenas na etapa final da aplicação do algoritmo.\n",
        "\n",
        "Normalmente divide-se nas proporções como 50% para treino, 25% para validação e outros 25% para teste."
      ],
      "metadata": {
        "id": "Xc4x7I_DjRwi"
      }
    },
    {
      "cell_type": "code",
      "execution_count": null,
      "metadata": {
        "id": "Dmjhe2wiiS3x"
      },
      "outputs": [],
      "source": []
    }
  ]
}