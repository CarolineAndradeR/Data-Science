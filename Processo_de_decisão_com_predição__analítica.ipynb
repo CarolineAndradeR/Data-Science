{
  "nbformat": 4,
  "nbformat_minor": 0,
  "metadata": {
    "colab": {
      "provenance": [],
      "authorship_tag": "ABX9TyO99PawYMrsjp7mXUUwSe0n",
      "include_colab_link": true
    },
    "kernelspec": {
      "name": "python3",
      "display_name": "Python 3"
    },
    "language_info": {
      "name": "python"
    }
  },
  "cells": [
    {
      "cell_type": "markdown",
      "metadata": {
        "id": "view-in-github",
        "colab_type": "text"
      },
      "source": [
        "<a href=\"https://colab.research.google.com/github/CarolineAndradeR/Data-Science/blob/main/Processo_de_decis%C3%A3o_com_predi%C3%A7%C3%A3o__anal%C3%ADtica.ipynb\" target=\"_parent\"><img src=\"https://colab.research.google.com/assets/colab-badge.svg\" alt=\"Open In Colab\"/></a>"
      ]
    },
    {
      "cell_type": "markdown",
      "source": [
        "# **Conceitos**"
      ],
      "metadata": {
        "id": "zh251xF4DbTx"
      }
    },
    {
      "cell_type": "markdown",
      "source": [
        "Processo de decisão:\n",
        "1. Definir o problema\n",
        "* Entender a situação\n",
        "* Entender os objetivos\n",
        "2. Identificar as alternativas\n",
        "* Discussão dos detalhes do problema\n",
        "* criação das alternativas\n",
        "3. Definir o modelo para o problema\n",
        "* Modelo de incerteza\n",
        "* Modelo de preferência\n",
        "4. Classificar as melhores alternativas\n",
        "* Definir no tipo de score\n",
        "* Ponderar as alternativas\n",
        "5. Implementar a melhor solução\n",
        "* Tomar a decisão\n",
        "* Comunicar aos grupos\n",
        "\n",
        "\n",
        "Uma análise descritiva permite entender como os indivíduos pensam e se comportam, como percebem as incertezas como aprendem e se adaptam às situações. Esse tipo de análise requer bastante observação empírica dos envolvidos.\n",
        "\n",
        "A análise preditiva com a finalidade de entender cenários futuros e assim, auxiliar nas tomadas de decisão.\n",
        "Dado que temos um processo de decisão, podemos utilizar avóres de decisão para melhor estruturar o problema. Nessa metodologia, podemos mapear os possíveis cresultados das escolhas relacionadas. Ou seja, o analista combinará os possíveis resultados e as probabilidades desses resultados ocorrerem.\n"
      ],
      "metadata": {
        "id": "A23DTVx8g7w6"
      }
    },
    {
      "cell_type": "markdown",
      "source": [
        "# **Prático**"
      ],
      "metadata": {
        "id": "Hv9gIWzoDiO9"
      }
    },
    {
      "cell_type": "code",
      "execution_count": null,
      "metadata": {
        "id": "B1os7r66g2Uk"
      },
      "outputs": [],
      "source": [
        "# gerais\n",
        "import numpy as np\n",
        "import pandas as pd\n",
        "import seaborn as sns\n",
        "import matplotlib.pyplot as plt\n",
        "# preditiva\n",
        "import statsmodels.formula.api as sm\n",
        "from sklearn.linear_model import LogisticRegression\n",
        "from sklearn.model_selection import train_test_split\n",
        "from sklearn.metrics import confusion_matrix, ConfusionMatrixDisplay, accuracy_score\n",
        "# carregar dados\n",
        "dados = pd.read_csv('dados_credito_small.csv')"
      ]
    },
    {
      "cell_type": "code",
      "source": [
        "# dados gastos\n",
        "dados.head()"
      ],
      "metadata": {
        "id": "b601NxP5EE_o"
      },
      "execution_count": null,
      "outputs": []
    },
    {
      "cell_type": "code",
      "source": [
        "# ajuste\n",
        "dados['target'] = np.where(dados['default'] == 'pagou', 1, 0)"
      ],
      "metadata": {
        "id": "gyAyDgHxEJGG"
      },
      "execution_count": null,
      "outputs": []
    },
    {
      "cell_type": "code",
      "source": [
        "# variaveis numericas - media\n",
        "dados.groupby('default')    .agg(idade_media = pd.NamedAgg('idade', 'mean'),\n",
        "          renda_media = pd.NamedAgg('renda', 'mean'),\n",
        "          divida_media = pd.NamedAgg('divida', 'mean'),\n",
        "          outras_div_media = pd.NamedAgg('outras_div', 'mean')).reset_index()"
      ],
      "metadata": {
        "id": "QaEB_VH5EO_C"
      },
      "execution_count": null,
      "outputs": []
    },
    {
      "cell_type": "code",
      "source": [
        "# variaveis numericas - media\n",
        "dados.groupby('default')      .agg(idade_media = pd.NamedAgg('idade', 'median'),\n",
        "          renda_media = pd.NamedAgg('renda', 'median'),\n",
        "          divida_media = pd.NamedAgg('divida', 'median'),\n",
        "          outras_div_media = pd.NamedAgg('outras_div', 'median'))     .reset_index()"
      ],
      "metadata": {
        "id": "9ssrtEeREfCD"
      },
      "execution_count": null,
      "outputs": []
    },
    {
      "cell_type": "code",
      "source": [
        "# categoria educacao\n",
        "dados.groupby(['default', 'educacao_cat']).agg(n = pd.NamedAgg('id', 'count')).reset_index()\n",
        "# categoria faixa etária\n",
        "dados.groupby(['default', 'idade_cat']).agg(n = pd.NamedAgg('id', 'count')).reset_index()"
      ],
      "metadata": {
        "id": "NT6GQSwUEw6R"
      },
      "execution_count": null,
      "outputs": []
    },
    {
      "cell_type": "code",
      "source": [
        "# logistica statsmodels\n",
        "logistic_model_sm = sm.logit(formula = 'target ~ renda + divida + outras_div + C(educacao_cat) + C(idade_cat)', data = dados).fit()"
      ],
      "metadata": {
        "id": "p6DnG8dkE-rT"
      },
      "execution_count": null,
      "outputs": []
    },
    {
      "cell_type": "code",
      "source": [
        "# dados treino e teste\n",
        "train_data, test_data = train_test_split(dados,\n",
        "                                         test_size = 0.25,\n",
        "                                         random_state = 6451)"
      ],
      "metadata": {
        "id": "nuY9U0k4FEYG"
      },
      "execution_count": null,
      "outputs": []
    },
    {
      "cell_type": "code",
      "source": [
        "# variavel educacao_cat é categorica, precisamos ajustar\n",
        "educacao_data_train = pd.get_dummies(data=train_data['educacao_cat'], drop_first=True)\n",
        "educacao_data_test = pd.get_dummies(data=test_data['educacao_cat'], drop_first=True)\n",
        "# variavel idade_cat é categorica, precisamos ajustar\n",
        "idade_data_train = pd.get_dummies(data=train_data['idade_cat'], drop_first=True)\n",
        "idade_data_test = pd.get_dummies(data=test_data['idade_cat'], drop_first=True)\n",
        "# exemplo dados educacao\n",
        "educacao_data_train.head()\n",
        "# exemplo dados idade\n",
        "idade_data_train.head()"
      ],
      "metadata": {
        "id": "UMZRsPEYFO8S"
      },
      "execution_count": null,
      "outputs": []
    },
    {
      "cell_type": "code",
      "source": [
        "# treino\n",
        "cols_reg = ['renda', 'divida', 'outras_div']\n",
        "X = train_data[cols_reg]\n",
        "X = pd.concat([X, educacao_data_train, idade_data_train], axis=1)\n",
        "y = train_data['target']\n",
        "# teste\n",
        "cols_reg = ['renda', 'divida', 'outras_div']\n",
        "X_test = test_data[cols_reg]\n",
        "X_test = pd.concat([X_test, educacao_data_test, idade_data_test], axis=1)\n",
        "y_test = test_data['target']"
      ],
      "metadata": {
        "id": "ZCVZbo7KFX6b"
      },
      "execution_count": null,
      "outputs": []
    },
    {
      "cell_type": "code",
      "source": [
        "# treino\n",
        "model_logistic = LogisticRegression(max_iter = 1000)\n",
        "model_logistic.fit(X, y)\n",
        "# coeficientes\n",
        "betas = np.append(model_logistic.intercept_, model_logistic.coef_)\n",
        "colunas = ['intercept']+X.columns.to_list()\n",
        "coeficientes = pd.DataFrame(betas, colunas, columns=['Coeficientes'])\n",
        "coeficientes"
      ],
      "metadata": {
        "id": "YY9f3a46Foax"
      },
      "execution_count": null,
      "outputs": []
    },
    {
      "cell_type": "code",
      "source": [
        "# previsao\n",
        "y_pred = model_logistic.predict(X_test)\n",
        "\n",
        "# matriz de confusao\n",
        "classes = dados['default'].unique()\n",
        "conf_matrix = confusion_matrix(y_test, y_pred)\n",
        "conf_matrix_chart = ConfusionMatrixDisplay(confusion_matrix=conf_matrix, display_labels=classes)\n",
        "conf_matrix_chart.plot()"
      ],
      "metadata": {
        "id": "p3_4VURvFyDG"
      },
      "execution_count": null,
      "outputs": []
    },
    {
      "cell_type": "code",
      "source": [
        "# acuracia\n",
        "accuracy_score(y_test, y_pred)\n",
        "# erros\n",
        "falsos_positivos = conf_matrix[0][1]\n",
        "falsos_negativos = conf_matrix[1][0]\n",
        "# acertos\n",
        "verdadeiros_positivos = conf_matrix[1][1]\n",
        "# custos\n",
        "nao_pagamento = 1000\n",
        "custo_cobranca = 100\n",
        "recuperar_divida = 1000\n",
        "# custos totais de cobrar e nao receber\n",
        "deixou_receber = falsos_positivos * nao_pagamento\n",
        "# custos totais de nao cobrar\n",
        "deixar_receber_por_nao_cobrar = falsos_negativos * recuperar_divida\n",
        "# custos operacionais da cobrança\n",
        "custo_cobranca_total = custo_cobranca * (verdadeiros_positivos + falsos_positivos)\n",
        "# Retornos\n",
        "retorno_cobrar_correto = verdadeiros_positivos * recuperar_divida\n",
        "# Lucro\n",
        "lucro = retorno_cobrar_correto - (deixar_receber_por_nao_cobrar + deixou_receber + custo_cobranca_total)\n",
        "lucro"
      ],
      "metadata": {
        "id": "k5Os75GXF6w1"
      },
      "execution_count": null,
      "outputs": []
    }
  ]
}