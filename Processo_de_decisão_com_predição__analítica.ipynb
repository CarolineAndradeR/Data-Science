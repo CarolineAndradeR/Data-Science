{
  "nbformat": 4,
  "nbformat_minor": 0,
  "metadata": {
    "colab": {
      "provenance": [],
      "authorship_tag": "ABX9TyNPTEY5yG30i0QWl2cbyg9e",
      "include_colab_link": true
    },
    "kernelspec": {
      "name": "python3",
      "display_name": "Python 3"
    },
    "language_info": {
      "name": "python"
    }
  },
  "cells": [
    {
      "cell_type": "markdown",
      "metadata": {
        "id": "view-in-github",
        "colab_type": "text"
      },
      "source": [
        "<a href=\"https://colab.research.google.com/github/CarolineAndradeR/Data-Science/blob/main/Processo_de_decis%C3%A3o_com_predi%C3%A7%C3%A3o__anal%C3%ADtica.ipynb\" target=\"_parent\"><img src=\"https://colab.research.google.com/assets/colab-badge.svg\" alt=\"Open In Colab\"/></a>"
      ]
    },
    {
      "cell_type": "markdown",
      "source": [
        "Processo de decisão:\n",
        "1. Definir o problema\n",
        "* Entender a situação\n",
        "* Entender os objetivos\n",
        "2. Identificar as alternativas\n",
        "* Discussão dos detalhes do problema\n",
        "* criação das alternativas\n",
        "3. Definir o modelo para o problema\n",
        "* Modelo de incerteza\n",
        "* Modelo de preferência\n",
        "4. Classificar as melhores alternativas\n",
        "* Definir no tipo de score\n",
        "* Ponderar as alternativas\n",
        "5. Implementar a melhor solução\n",
        "* Tomar a decisão\n",
        "* Comunicar aos grupos\n",
        "\n",
        "\n",
        "Uma análise descritiva permite entender como os indivíduos pensam e se comportam, como percebem as incertezas como aprendem e se adaptam às situações. Esse tipo de análise requer bastante observação empírica dos envolvidos.\n",
        "\n",
        "A análise preditiva com a finalidade de entender cenários futuros e assim, auxiliar nas tomadas de decisão.\n",
        "Dado que temos um processo de decisão, podemos utilizar avóres de decisão para melhor estruturar o problema. Nessa metodologia, podemos mapear os possíveis cresultados das escolhas relacionadas. Ou seja, o analista combinará os possíveis resultados e as probabilidades desses resultados ocorrerem.\n"
      ],
      "metadata": {
        "id": "A23DTVx8g7w6"
      }
    },
    {
      "cell_type": "code",
      "execution_count": null,
      "metadata": {
        "id": "B1os7r66g2Uk"
      },
      "outputs": [],
      "source": [
        "# gerais\n",
        "import numpy as np\n",
        "import pandas as pd\n",
        "import seaborn as sns\n",
        "import matplotlib.pyplot as plt\n",
        "# preditiva\n",
        "import statsmodels.formula.api as sm\n",
        "from sklearn.linear_model import LogisticRegression\n",
        "from sklearn.model_selection import train_test_split\n",
        "from sklearn.metrics import confusion_matrix, ConfusionMatrixDisplay, accuracy_score\n",
        "# carregar dados\n",
        "dados = pd.read_csv('dados_credito_small.csv')"
      ]
    }
  ]
}