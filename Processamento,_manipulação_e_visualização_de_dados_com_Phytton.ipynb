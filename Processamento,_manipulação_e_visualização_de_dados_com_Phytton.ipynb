{
  "nbformat": 4,
  "nbformat_minor": 0,
  "metadata": {
    "colab": {
      "provenance": [],
      "authorship_tag": "ABX9TyM0isoCaM2oWIcYMAboGtyB",
      "include_colab_link": true
    },
    "kernelspec": {
      "name": "python3",
      "display_name": "Python 3"
    },
    "language_info": {
      "name": "python"
    }
  },
  "cells": [
    {
      "cell_type": "markdown",
      "metadata": {
        "id": "view-in-github",
        "colab_type": "text"
      },
      "source": [
        "<a href=\"https://colab.research.google.com/github/CarolineAndradeR/Data-Science/blob/main/Processamento%2C_manipula%C3%A7%C3%A3o_e_visualiza%C3%A7%C3%A3o_de_dados_com_Phytton.ipynb\" target=\"_parent\"><img src=\"https://colab.research.google.com/assets/colab-badge.svg\" alt=\"Open In Colab\"/></a>"
      ]
    },
    {
      "cell_type": "markdown",
      "source": [
        "**NUMPY -** É uma bibloteca para Python, significa Python Númerico. É a principal biblioteca para trablhar com álgebra linear, estrutura de dados e algoritmos de Ciência de Dados. É umas das prinpais bibliotecas para e trabalhar com ciência de dados."
      ],
      "metadata": {
        "id": "Nl810YIK4Kiv"
      }
    },
    {
      "cell_type": "code",
      "execution_count": 2,
      "metadata": {
        "id": "myZ--1Bn1iEM"
      },
      "outputs": [],
      "source": [
        "# Essa biblioteca não vem instalada no pacote padrão do Python, precisamos instalar a biblioteca\n",
        "import numpy as np"
      ]
    },
    {
      "cell_type": "code",
      "source": [
        "# Uma estrutura de dados parecida com uma lista, porém os objetos dassa lista devem ser do mesmo tipo.\n",
        "a =  np.array({1,2,3}) # Criação de uma array"
      ],
      "metadata": {
        "id": "bNj0lyFp5cyu"
      },
      "execution_count": 4,
      "outputs": []
    },
    {
      "cell_type": "code",
      "source": [
        "# Uma estrutura de lista da lista, que se torna uma matriz\n",
        "b =  np.array([[1,2,3],[4,5,6]])\n",
        "print(b)"
      ],
      "metadata": {
        "colab": {
          "base_uri": "https://localhost:8080/"
        },
        "id": "P8D1N82n6qrk",
        "outputId": "8cc15a03-4229-44d5-d1b8-9800efd8d43d"
      },
      "execution_count": 5,
      "outputs": [
        {
          "output_type": "stream",
          "name": "stdout",
          "text": [
            "[[1 2 3]\n",
            " [4 5 6]]\n"
          ]
        }
      ]
    }
  ]
}