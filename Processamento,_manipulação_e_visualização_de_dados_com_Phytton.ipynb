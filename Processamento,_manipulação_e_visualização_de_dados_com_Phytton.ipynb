{
  "nbformat": 4,
  "nbformat_minor": 0,
  "metadata": {
    "colab": {
      "provenance": [],
      "include_colab_link": true
    },
    "kernelspec": {
      "name": "python3",
      "display_name": "Python 3"
    },
    "language_info": {
      "name": "python"
    }
  },
  "cells": [
    {
      "cell_type": "markdown",
      "metadata": {
        "id": "view-in-github",
        "colab_type": "text"
      },
      "source": [
        "<a href=\"https://colab.research.google.com/github/CarolineAndradeR/Data-Science/blob/main/Processamento%2C_manipula%C3%A7%C3%A3o_e_visualiza%C3%A7%C3%A3o_de_dados_com_Phytton.ipynb\" target=\"_parent\"><img src=\"https://colab.research.google.com/assets/colab-badge.svg\" alt=\"Open In Colab\"/></a>"
      ]
    },
    {
      "cell_type": "markdown",
      "source": [
        "**NUMPY -** É uma bibloteca para Python, significa Python Númerico. É a principal biblioteca para trablhar com álgebra linear, estrutura de dados e algoritmos de Ciência de Dados. É umas das prinpais bibliotecas para e trabalhar com ciência de dados."
      ],
      "metadata": {
        "id": "Nl810YIK4Kiv"
      }
    },
    {
      "cell_type": "code",
      "execution_count": null,
      "metadata": {
        "id": "myZ--1Bn1iEM"
      },
      "outputs": [],
      "source": [
        "# Essa biblioteca não vem instalada no pacote padrão do Python, precisamos instalar a biblioteca\n",
        "import numpy as np"
      ]
    },
    {
      "cell_type": "code",
      "source": [
        "# Uma estrutura de dados parecida com uma lista, porém os objetos dessa array devem ser do mesmo tipo.\n",
        "a =  np.array({1,2,3}) # Criação de uma array, uma lista unidimensional."
      ],
      "metadata": {
        "id": "bNj0lyFp5cyu"
      },
      "execution_count": null,
      "outputs": []
    },
    {
      "cell_type": "code",
      "source": [
        "# Uma estrutura de lista da lista, que se torna uma matriz\n",
        "b =  np.array([[1,2,3],[4,5,6]])\n",
        "print(b)"
      ],
      "metadata": {
        "colab": {
          "base_uri": "https://localhost:8080/"
        },
        "id": "P8D1N82n6qrk",
        "outputId": "00fe63e6-ca66-4562-abd8-fa4e76087d06"
      },
      "execution_count": null,
      "outputs": [
        {
          "output_type": "stream",
          "name": "stdout",
          "text": [
            "[[1 2 3]\n",
            " [4 5 6]]\n"
          ]
        }
      ]
    },
    {
      "cell_type": "code",
      "source": [
        "# Retorna a dimensão da estrutura dos dados\n",
        "print(b.shape)\n",
        "print(b[0,0], b[0,1], b[1,0])"
      ],
      "metadata": {
        "id": "Dv1MZosO7n3-",
        "outputId": "2b4dca0e-dc4d-4d9e-a102-091e1822ed09",
        "colab": {
          "base_uri": "https://localhost:8080/"
        }
      },
      "execution_count": null,
      "outputs": [
        {
          "output_type": "stream",
          "name": "stdout",
          "text": [
            "(2, 3)\n",
            "1 2 4\n"
          ]
        }
      ]
    },
    {
      "cell_type": "markdown",
      "source": [
        "**Outras formas de criar array**"
      ],
      "metadata": {
        "id": "D0MgK5L977w5"
      }
    },
    {
      "cell_type": "code",
      "source": [
        "# Cria uma array de zeros onde a dimensão quadrada de 2 por 2\n",
        "a = np.zeros((2,2))\n",
        "print(a)\n",
        "\n",
        "# Cria uma array de um (1), uma linha e duas colunas onde os valores são de um.\n",
        "b = np.ones((1,2))\n",
        "print(b)\n",
        "\n",
        "# Cria uma array de constante, são valores diferentes de 0 e de 1 onde será uma matriz de 7 de 2 por 2.\n",
        "c = np.full((2,2),7)\n",
        "print(c)\n",
        "\n",
        "# Cria uma matriz indentidade, é uma matriz que na diagonal principal contem valores unitários.\n",
        "d = np.eye(2)\n",
        "print(d)\n",
        "\n",
        "# Cria uma matriz quadrada de números aleatórios.\n",
        "e = np.random.random((2,2))\n",
        "print(e)"
      ],
      "metadata": {
        "id": "x4Hd5xxI7q0K"
      },
      "execution_count": null,
      "outputs": []
    },
    {
      "cell_type": "markdown",
      "source": [
        "**Indexação de Array**\n",
        "\n",
        "Acessar os elementos de uma array para manipular os dados. Em um projeto de ciência de dados sempre teremos a necessidade de relizar a limpeza e manipulação dos dados."
      ],
      "metadata": {
        "id": "XaUKYbvmC0T5"
      }
    },
    {
      "cell_type": "code",
      "source": [
        "import numpy as np\n",
        "\n",
        "# Criar um array de bi-dimensional, que contém 3 linhas e 4 colunas\n",
        "a = np.array([[1,2,3,4], [5,6,7,8], [9,10,11,12]])\n",
        "\n",
        "# Acessar o elemento que queremos acessar\n",
        "# Coluna 0 linha 1, segundo elemente a primeira linha.\n",
        "print(a [0,1])\n",
        "\n",
        "# Trocando os valores dessa posição, o valor de 2 passa a ser 77.\n",
        "a[0,1] = 77\n",
        "\n",
        "print(a[0,1])"
      ],
      "metadata": {
        "id": "CCBVS43G7qgG",
        "outputId": "c505cfd7-9f8b-4430-c748-ecfb7098fd1a",
        "colab": {
          "base_uri": "https://localhost:8080/"
        }
      },
      "execution_count": null,
      "outputs": [
        {
          "output_type": "stream",
          "name": "stdout",
          "text": [
            "2\n",
            "77\n"
          ]
        }
      ]
    },
    {
      "cell_type": "code",
      "source": [
        "# Fatiamento de array - acessar dados de um determinado intervalo.\n",
        "# Os primeiros valores são de linhas e o segundo são os valores das colunas.\n",
        "# Sem dados antes do : significa que vamos trabalhar com o ínicio do array (indice zero).\n",
        "\n",
        "b = a[:2, 1:3]\n",
        "\n",
        "print(a);\n",
        "print(b)"
      ],
      "metadata": {
        "id": "BZsUZao_FTbK",
        "outputId": "5fbd2644-8dc6-45c4-da63-4b3412662770",
        "colab": {
          "base_uri": "https://localhost:8080/"
        }
      },
      "execution_count": null,
      "outputs": [
        {
          "output_type": "stream",
          "name": "stdout",
          "text": [
            "[[ 1 77  3  4]\n",
            " [ 5  6  7  8]\n",
            " [ 9 10 11 12]]\n",
            "[[77  3]\n",
            " [ 6  7]]\n"
          ]
        }
      ]
    },
    {
      "cell_type": "code",
      "source": [
        "# Retorna todos os dados da linha 1 de todas as colunas.\n",
        "# quando não é passado nada entre o : é retornado todos os dados.\n",
        "linha_1 = a[1, :]\n",
        "\n",
        "coluna_1 = a[:, 1]\n",
        "\n",
        "print(linha_1)\n",
        "print(coluna_1)"
      ],
      "metadata": {
        "id": "I5V-ysRjMEv6",
        "outputId": "18c46e09-0307-4974-8cb3-0b8516b9c643",
        "colab": {
          "base_uri": "https://localhost:8080/"
        }
      },
      "execution_count": null,
      "outputs": [
        {
          "output_type": "stream",
          "name": "stdout",
          "text": [
            "[5 6 7 8]\n",
            "[77  6 10]\n"
          ]
        }
      ]
    },
    {
      "cell_type": "markdown",
      "source": [
        "**Realizando cálculos**"
      ],
      "metadata": {
        "id": "pkEoOJs7Ms4M"
      }
    },
    {
      "cell_type": "code",
      "source": [
        "import numpy as np\n",
        "\n",
        "# Criação dos array\n",
        "x = np.array([[1,2], [3,4]], dtype=np.float64)\n",
        "y = np.array([[5,6], [7,8]], dtype=np.float64)\n",
        "\n",
        "# Soma dos dados ponto a ponto (vai soma o valor de 1 + 5, 2 + 6.)\n",
        "# Podemos chamar de matriz por ser um modelo unidimensional\n",
        "# Soma entre as matrizes\n",
        "print(x + y)\n",
        "print(np.add(x,y))\n",
        "\n",
        "# Subtração entre as matrizes\n",
        "print(x - y)\n",
        "print(np.subtract(x, y))\n",
        "\n",
        "# Multiplicação entre as matrizes\n",
        "print(x * y)\n",
        "print(np.multiply(x, y))\n",
        "\n",
        "# Divisão entre as matrizes\n",
        "print(x / y)\n",
        "print(np.divide(x, y))\n",
        "\n",
        "# Calcula a raiz quadrada de toda a matriz\n",
        "print(np.sqrt(x))"
      ],
      "metadata": {
        "id": "yJ12qti1Mxnz"
      },
      "execution_count": null,
      "outputs": []
    },
    {
      "cell_type": "code",
      "source": [
        "# .dot - linha x coluna\n",
        "# Criação dos array\n",
        "# Multica-se os elementos da primeira linha da primeira matriz x os elementos da segunda matriz\n",
        "# Exemplo: 1*5+2*7\n",
        "x = np.array([[1,2], [3,4]])\n",
        "y = np.array([[5,6], [7,8]])\n",
        "\n",
        "# Com a matriz unidimensional\n",
        "# = 9*11 + 10*12\n",
        "v = np.array([9, 10])\n",
        "w = np.array([11, 12])\n",
        "\n",
        "# Multiplicação de Matriz\n",
        "# x*y\n",
        "print(x.dot(y))\n",
        "# Pode usar um metodo e passar os paramentros\n",
        "print(np.dot(v, w))\n",
        "print(v @ w)"
      ],
      "metadata": {
        "id": "pUJBXceUOIpS",
        "outputId": "433e6f17-8f74-4fe3-d751-322135e0fc51",
        "colab": {
          "base_uri": "https://localhost:8080/"
        }
      },
      "execution_count": 9,
      "outputs": [
        {
          "output_type": "stream",
          "name": "stdout",
          "text": [
            "[[19 22]\n",
            " [43 50]]\n",
            "219\n",
            "219\n"
          ]
        }
      ]
    },
    {
      "cell_type": "code",
      "source": [
        "# Array N dimensional\n",
        "#\n",
        "x = np.array([[1,2], [3,4]])\n",
        "\n",
        "# Soma todos os elementos do array x\n",
        "print(np.sum(x))\n",
        "# Eixo 0 retorna soma das colunas\n",
        "print(np.sum(x, axis=0))\n",
        "# Eixo 1 retorna a soma das linhas\n",
        "print(np.sum(x, axis=1))"
      ],
      "metadata": {
        "id": "OiYCqH_aUntW",
        "outputId": "1f6f050a-4279-4114-ebb1-50444b3b62a6",
        "colab": {
          "base_uri": "https://localhost:8080/"
        }
      },
      "execution_count": 11,
      "outputs": [
        {
          "output_type": "stream",
          "name": "stdout",
          "text": [
            "10\n",
            "[4 6]\n",
            "[3 7]\n"
          ]
        }
      ]
    }
  ]
}