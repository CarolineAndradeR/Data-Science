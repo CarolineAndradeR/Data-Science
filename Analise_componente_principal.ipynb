{
  "nbformat": 4,
  "nbformat_minor": 0,
  "metadata": {
    "colab": {
      "provenance": [],
      "authorship_tag": "ABX9TyNn32FLXj43f6a202vd1Qzy",
      "include_colab_link": true
    },
    "kernelspec": {
      "name": "python3",
      "display_name": "Python 3"
    },
    "language_info": {
      "name": "python"
    }
  },
  "cells": [
    {
      "cell_type": "markdown",
      "metadata": {
        "id": "view-in-github",
        "colab_type": "text"
      },
      "source": [
        "<a href=\"https://colab.research.google.com/github/CarolineAndradeR/Data-Science/blob/main/Analise_componente_principal.ipynb\" target=\"_parent\"><img src=\"https://colab.research.google.com/assets/colab-badge.svg\" alt=\"Open In Colab\"/></a>"
      ]
    },
    {
      "cell_type": "markdown",
      "source": [
        "Análise de Componente Principal - ACP\n",
        "\n",
        "Utilizado tanto para resumir quanto para reduzir a quantidade de informações de um banco de dados e transformar em índices mais simples de serem explicados.\n",
        "\n",
        "É uma técnica voltada a transforma um conjunto de variáveis correlacionadas em um conjunto menor de dimensões. Ou seja, a nova dimensão (componente principal) é uma combinação linear das variáveis originais.\n",
        "\n",
        "Permite que as dimensões sejam reduzidas considerando a média ponderada, sendo que os pesos são obtidos por meio da correlação.\n",
        "\n",
        "É utilizado quando temos variáveis correlacionadas no banco de dados e reducir essas dimensão tratá ganho de entendimento e explicação de um problema quando de performance computacional.\n",
        "\n",
        "É um grande ganho de importância quando buscamos extrair o número mínimo de fatores, porém seiginificativos, para explicar toda a variabilidade existente nos dados originais.\n",
        "\n",
        "**AUTOVALORES E AUTOVETORES**\n",
        "\n",
        "Conceitos mais avançados relacionado á algebra linear são aplicados. Esse processo é obtido por meio da extração de autovalores e autovetores.\n",
        "\n",
        "Pode ser aplicada a técnica de álgebra linear de decomposição de matrizes em uma relação muito alta entre as variavéis (decomposta em outras porém toda informação será mantida).\n",
        "\n",
        "**Procedimentos para realizar uma análise de ACP**\n",
        "\n",
        "1. Gerar e analisar a matriz de correlação.\n",
        "\n",
        "  Análisar a matriz de correlações, é essencial, somente depois dessa análise podemos definir se pode ou não realizar o ACP. A dica é verificar as correlações em sem considerar o sinal, buscar encontrar valores moderados a alto.\n",
        "2. Definir o número de componentes a serem estraídos.\n",
        "\n",
        "  Definir o quanto possível as dimensões serão reduzidas. Importante é que o número máximo de componentes é igual ao número de variáveis, porém os primeiros componentes possuem informalções suficiente para explicar a variedade dos dados.\n",
        "3. Interpretação dos componentes (opcional).\n",
        "\n",
        "Apresentação dos três critérios: **autovalores** no qual buscamos observar os componentes que tem autovalores acima de 1, se sim, esses componentes são importantes para reduzir a dimensão; **gráfico de \"cotovelo\" (screeplot)** utilizando a técnica de observar um gráfico ordenando os autovalores do maior para o menor; e percentual da **variância explicada** um cálculo simples onde temos que gerar um quociente entre o autovalor e o número total de dimensões\n",
        "\n"
      ],
      "metadata": {
        "id": "PS3R3ZakGbEj"
      }
    },
    {
      "cell_type": "code",
      "execution_count": null,
      "metadata": {
        "id": "HZImD4FhGWOJ"
      },
      "outputs": [],
      "source": []
    }
  ]
}