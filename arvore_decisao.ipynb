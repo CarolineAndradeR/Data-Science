{
  "nbformat": 4,
  "nbformat_minor": 0,
  "metadata": {
    "colab": {
      "provenance": [],
      "authorship_tag": "ABX9TyOCOBLhDcskiLdi2xsqJGZJ",
      "include_colab_link": true
    },
    "kernelspec": {
      "name": "python3",
      "display_name": "Python 3"
    },
    "language_info": {
      "name": "python"
    }
  },
  "cells": [
    {
      "cell_type": "markdown",
      "metadata": {
        "id": "view-in-github",
        "colab_type": "text"
      },
      "source": [
        "<a href=\"https://colab.research.google.com/github/CarolineAndradeR/Data-Science/blob/main/arvore_decisao.ipynb\" target=\"_parent\"><img src=\"https://colab.research.google.com/assets/colab-badge.svg\" alt=\"Open In Colab\"/></a>"
      ]
    },
    {
      "cell_type": "markdown",
      "source": [
        "**Teoria das probabilidades** - Calculamos a probabilidade de um evento ocorrer a partir da análise das maneiras possíveis de ele ocorrese e do número total de resultados possíveis: P=x/t, em que x são as maneiras possiveis de um evento ocorrer, e T, o número total de resultados possiveis.\n",
        "\n",
        "**Conceito basico de Probabilidade** - exemplo simples, se uma moeda for jogada para o alto e ela pode cair com o lado da cara ou da coroa, tecnicamente isso é chamado de probabilidade a priori, pois é calculado o evento antes de acontecer, uma moeda tem dois lados e a conclusão é de que a respota pe de 50%.\n",
        "\n",
        "Um diagrama de árvore de dados tem muitas vantagens, tais como:\n",
        "\n",
        "* Por se utilizar de niveis hierárquicos, auxilia a organizar as etapas de análise.\n",
        "\n",
        "* É um gráfico de fácil interpretação visual, sendo uma ferramenta simples e poderosa para comunicar resultados, análise etc.\n",
        "\n",
        "* Permite, por meio da sua navegação em diferente níveis, compreender diferentes contribuições de cada \"ramo\" da árvore para o todo que está sendo analisado.\n",
        "\n",
        "* Permite que utilizemos muito níveis, podendo \"abrir\" somente os ramos que interessam."
      ],
      "metadata": {
        "id": "M72gSXcPUYGh"
      }
    },
    {
      "cell_type": "code",
      "execution_count": null,
      "metadata": {
        "id": "-Z02nDLwUDU6"
      },
      "outputs": [],
      "source": []
    }
  ]
}